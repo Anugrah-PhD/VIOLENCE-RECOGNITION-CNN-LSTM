{
  "cells": [
    {
      "cell_type": "code",
      "execution_count": null,
      "metadata": {
        "colab": {
          "base_uri": "https://localhost:8080/"
        },
        "id": "B2HqGzLQvgPe",
        "outputId": "9f6e2864-c1f1-48b3-c16c-290ffdd46e53"
      },
      "outputs": [
        {
          "name": "stdout",
          "output_type": "stream",
          "text": [
            "Mounted at /content/drive\n"
          ]
        }
      ],
      "source": [
        "from google.colab import drive\n",
        "drive.mount('/content/drive')"
      ]
    },
    {
      "cell_type": "code",
      "execution_count": null,
      "metadata": {
        "colab": {
          "base_uri": "https://localhost:8080/"
        },
        "id": "v8VWqpUNpX2o",
        "outputId": "a990a3f7-82d4-4364-83c5-2e0dc38ffbbf"
      },
      "outputs": [
        {
          "name": "stdout",
          "output_type": "stream",
          "text": [
            "Done!\n"
          ]
        }
      ],
      "source": [
        "%matplotlib inline\n",
        "import cv2\n",
        "import os\n",
        "import numpy as np\n",
        "import keras\n",
        "import matplotlib.pyplot as plt\n",
        "from random import shuffle\n",
        "from keras.applications.densenet import DenseNet201\n",
        "from keras import backend as K\n",
        "from keras.models import Model, Sequential\n",
        "from keras.layers import Input\n",
        "from keras.layers import LSTM,GRU\n",
        "from keras.layers import Dense, Activation,Dropout,TimeDistributed,Bidirectional,AveragePooling1D,Flatten\n",
        "\n",
        "import sys\n",
        "import h5py\n",
        "import timeit\n",
        "\n",
        "print (\"Done!\")"
      ]
    },
    {
      "cell_type": "markdown",
      "metadata": {
        "id": "jiuYtOyEp3nN"
      },
      "source": [
        "**Helper Functions**\n",
        "The function print_progress to print the amount of videos processed"
      ]
    },
    {
      "cell_type": "code",
      "execution_count": null,
      "metadata": {
        "colab": {
          "base_uri": "https://localhost:8080/"
        },
        "id": "e8m5LDtUwZL6",
        "outputId": "a0d49bca-27ee-4361-8ff8-5676034366eb"
      },
      "outputs": [
        {
          "name": "stdout",
          "output_type": "stream",
          "text": [
            "Done!\n"
          ]
        }
      ],
      "source": [
        "def print_progress(count, max_count):\n",
        "    # Percentage completion.\n",
        "    pct_complete = count / max_count\n",
        "\n",
        "    # Status-message. Note the \\r which means the line should overwrite itself\n",
        "    msg = \"\\r- Progress: {0:.1%}\".format(pct_complete)\n",
        "\n",
        "    # Print it.\n",
        "    sys.stdout.write(msg)\n",
        "    sys.stdout.flush()\n",
        "\n",
        "print (\"Done!\")"
      ]
    },
    {
      "cell_type": "markdown",
      "metadata": {
        "id": "z6WHsz2eqhSG"
      },
      "source": [
        "\n",
        "**Load Data**\n",
        "The directory to place the video dataset"
      ]
    },
    {
      "cell_type": "code",
      "execution_count": null,
      "metadata": {
        "colab": {
          "base_uri": "https://localhost:8080/"
        },
        "id": "I_EhI1Bgweza",
        "outputId": "0dc74b8d-00b6-4c79-b4e1-c0a4121f650c"
      },
      "outputs": [],
      "source": [
        "in_dir = \"data\"\n",
        "\n",
        "in_dir = 'dataset-path'\n",
        "\n",
        "print (\"Done!\")\n",
        "\n",
        "print(in_dir)"
      ]
    },
    {
      "cell_type": "markdown",
      "metadata": {
        "id": "UxUdddJRsgnH"
      },
      "source": [
        "**Data-Dimensions**"
      ]
    },
    {
      "cell_type": "code",
      "execution_count": null,
      "metadata": {
        "colab": {
          "base_uri": "https://localhost:8080/"
        },
        "id": "e78PwQdqwkup",
        "outputId": "a4464db9-b217-4c53-b20e-4fe956c7feb2"
      },
      "outputs": [
        {
          "name": "stdout",
          "output_type": "stream",
          "text": [
            "Done!\n"
          ]
        }
      ],
      "source": [
        "# Frame size  \n",
        "img_size = 224\n",
        "\n",
        "img_size_touple = (img_size, img_size)\n",
        "\n",
        "# Number of channels (RGB)\n",
        "num_channels = 3\n",
        "\n",
        "# Flat frame size\n",
        "img_size_flat = img_size * img_size * num_channels\n",
        "\n",
        "# Number of classes for classification (Violence-No Violence)\n",
        "num_classes = 2\n",
        "\n",
        "# Number of files to train\n",
        "_num_files_train = 1\n",
        "\n",
        "# Number of frames per video\n",
        "_images_per_file = 20\n",
        "\n",
        "# Number of frames per training set\n",
        "_num_images_train = _num_files_train * _images_per_file\n",
        "\n",
        "# Video extension\n",
        "video_exts = \".mp4\"\n",
        "\n",
        "print (\"Done!\")"
      ]
    },
    {
      "cell_type": "markdown",
      "metadata": {
        "id": "6cUpXo6DtSzO"
      },
      "source": [
        "\n",
        "**Helper-function for getting video frames**\n"
      ]
    },
    {
      "cell_type": "markdown",
      "metadata": {
        "id": "Qxo03zoFLtm8"
      },
      "source": [
        "USED IN get_transfer_value"
      ]
    },
    {
      "cell_type": "code",
      "execution_count": null,
      "metadata": {
        "colab": {
          "base_uri": "https://localhost:8080/"
        },
        "id": "BSbp72J7wk8G",
        "outputId": "15752826-b76c-4634-ec74-d4721f185f57"
      },
      "outputs": [
        {
          "name": "stdout",
          "output_type": "stream",
          "text": [
            "Done!\n"
          ]
        }
      ],
      "source": [
        "def get_frames(current_dir, file_name):\n",
        "    \n",
        "    in_file = os.path.join(current_dir, file_name)\n",
        "    \n",
        "    images = []\n",
        "    \n",
        "    vidcap = cv2.VideoCapture(in_file)\n",
        "    \n",
        "    success,image = vidcap.read()\n",
        "        \n",
        "    count = 0\n",
        "\n",
        "    while count<_images_per_file:\n",
        "                \n",
        "        RGB_img = cv2.cvtColor(image, cv2.COLOR_BGR2RGB)\n",
        "    \n",
        "        res = cv2.resize(RGB_img, dsize=(img_size, img_size),\n",
        "                                 interpolation=cv2.INTER_CUBIC)\n",
        "    \n",
        "        images.append(res)\n",
        "\n",
        "        image2=cv2.flip(image,1)\n",
        "\n",
        "        RGB_img = cv2.cvtColor(image2, cv2.COLOR_BGR2RGB)\n",
        "    \n",
        "        res2 = cv2.resize(RGB_img, dsize=(img_size, img_size),\n",
        "                                 interpolation=cv2.INTER_CUBIC)\n",
        "    \n",
        "        images.append(res2)\n",
        "    \n",
        "        success,image = vidcap.read()\n",
        "    \n",
        "        count += 1\n",
        "        \n",
        "    resul = np.array(images)\n",
        "    \n",
        "    resul = (resul / 255.).astype(np.float16)\n",
        "        \n",
        "    return resul\n",
        "\n",
        "print (\"Done!\")"
      ]
    },
    {
      "cell_type": "markdown",
      "metadata": {
        "id": "EzyBfyddxae9"
      },
      "source": [
        "**Helper function to get the names of the data downloaded and label it**"
      ]
    },
    {
      "cell_type": "code",
      "execution_count": null,
      "metadata": {
        "colab": {
          "base_uri": "https://localhost:8080/"
        },
        "id": "PMEuFNQwyW3B",
        "outputId": "ba66ab17-f7b1-40cf-95bb-98014d37e77f"
      },
      "outputs": [
        {
          "name": "stdout",
          "output_type": "stream",
          "text": [
            "Done!\n"
          ]
        }
      ],
      "source": [
        "def label_video_names(in_dir):\n",
        "    \n",
        "    # list containing video names\n",
        "    names = []\n",
        "    # list containin video labels [1, 0] if it has violence and [0, 1] if not\n",
        "    labels = []   \n",
        "   \n",
        "    for current_dir, dir_names,file_names in os.walk(in_dir):\n",
        "        \n",
        "        for file_name in file_names:\n",
        "            \n",
        "            if file_name[0:1] == 'V':\n",
        "                labels.append([1,0])\n",
        "                names.append(file_name)\n",
        "            elif file_name[0:2] == 'NV':\n",
        "                labels.append([0,1])\n",
        "                names.append(file_name)\n",
        "                     \n",
        "    #Dictionary       \n",
        "    c = list(zip(names,labels))\n",
        "    # Suffle the data (names and labels)\n",
        "    shuffle(c)\n",
        "    \n",
        "    names, labels = zip(*c)\n",
        "            \n",
        "    return names, labels\n",
        "\n",
        "print (\"Done!\")"
      ]
    },
    {
      "cell_type": "markdown",
      "metadata": {
        "id": "vpzJzt53z1RN"
      },
      "source": [
        "**Plot a video frame to see if data is correct**"
      ]
    },
    {
      "cell_type": "code",
      "execution_count": null,
      "metadata": {
        "colab": {
          "base_uri": "https://localhost:8080/"
        },
        "id": "GBMZCRYlyW7O",
        "outputId": "7f459c87-d294-4aa9-8f4f-0bc7c09b5175"
      },
      "outputs": [
        {
          "name": "stdout",
          "output_type": "stream",
          "text": [
            "Done!\n"
          ]
        }
      ],
      "source": [
        "# First get the names and labels of the whole videos\n",
        "names, labels = label_video_names(in_dir)\n",
        "\n",
        "print (\"Done!\")"
      ]
    },
    {
      "cell_type": "markdown",
      "metadata": {
        "id": "_8iimcPrzjrt"
      },
      "source": [
        "**NOT_IMPORTANT**"
      ]
    },
    {
      "cell_type": "code",
      "execution_count": null,
      "metadata": {
        "cellView": "both",
        "colab": {
          "base_uri": "https://localhost:8080/"
        },
        "id": "iuSstAi1yW80",
        "outputId": "bfd12be2-3d7b-418a-e477-13db619d7525"
      },
      "outputs": [],
      "source": [
        "print(labels)\n",
        "print(names)\n",
        "print(len(names))"
      ]
    },
    {
      "cell_type": "markdown",
      "metadata": {
        "id": "Y_zicQ_E0H8g"
      },
      "source": [
        "Then we are going to load 20 frames of one video, for example.\n",
        "The video has violence or not, look at the name of the video, starts with 'V' or 'NV'"
      ]
    },
    {
      "cell_type": "code",
      "execution_count": null,
      "metadata": {
        "colab": {
          "base_uri": "https://localhost:8080/",
          "height": 35
        },
        "id": "CUaM2BRuyW1p",
        "outputId": "c9771c6a-00ff-4eca-f1d7-aab66b8a5a5d"
      },
      "outputs": [
        {
          "data": {
            "application/vnd.google.colaboratory.intrinsic+json": {
              "type": "string"
            },
            "text/plain": [
              "'V_ (1009).mp4'"
            ]
          },
          "execution_count": 14,
          "metadata": {
            "tags": []
          },
          "output_type": "execute_result"
        }
      ],
      "source": [
        "names[12]"
      ]
    },
    {
      "cell_type": "code",
      "execution_count": null,
      "metadata": {
        "colab": {
          "base_uri": "https://localhost:8080/"
        },
        "id": "bHOxUhGCWYg3",
        "outputId": "143cb679-198d-4146-ce1c-36a44ebeb092"
      },
      "outputs": [
        {
          "data": {
            "text/plain": [
              "(40, 224, 224, 3)"
            ]
          },
          "execution_count": 15,
          "metadata": {
            "tags": []
          },
          "output_type": "execute_result"
        }
      ],
      "source": [
        "frames = get_frames(in_dir, names[12])\n",
        "frames.shape"
      ]
    },
    {
      "cell_type": "markdown",
      "metadata": {
        "id": "MCbvyFkO0WEJ"
      },
      "source": [
        "\n",
        "Convert back the frames to uint8 pixel format to plot the frame"
      ]
    },
    {
      "cell_type": "code",
      "execution_count": null,
      "metadata": {
        "id": "F5mf1gV1WYoV"
      },
      "outputs": [],
      "source": [
        "visible_frame = (frames*255).astype('uint8')"
      ]
    },
    {
      "cell_type": "code",
      "execution_count": null,
      "metadata": {
        "colab": {
          "base_uri": "https://localhost:8080/",
          "height": 286
        },
        "id": "M4ODWYLcWYti",
        "outputId": "a5fa9704-08a3-4ee9-8a7b-f02a85b4008d"
      },
      "outputs": [
        {
          "data": {
            "text/plain": [
              "<matplotlib.image.AxesImage at 0x7fab6f13ed10>"
            ]
          },
          "execution_count": 17,
          "metadata": {
            "tags": []
          },
          "output_type": "execute_result"
        },
        {
          "data": {
            "image/png": "[encoded data removed]",
            "text/plain": [
              "<Figure size 432x288 with 1 Axes>"
            ]
          },
          "metadata": {
            "needs_background": "light",
            "tags": []
          },
          "output_type": "display_data"
        }
      ],
      "source": [
        "plt.imshow(visible_frame[3])"
      ]
    },
    {
      "cell_type": "code",
      "execution_count": null,
      "metadata": {
        "colab": {
          "base_uri": "https://localhost:8080/",
          "height": 286
        },
        "id": "WyiEhj6kWY1s",
        "outputId": "0f59e893-c575-42ab-f9d0-806dd1e561a7"
      },
      "outputs": [
        {
          "data": {
            "text/plain": [
              "<matplotlib.image.AxesImage at 0x7fab6ec20150>"
            ]
          },
          "execution_count": 18,
          "metadata": {
            "tags": []
          },
          "output_type": "execute_result"
        },
        {
          "data": {
            "image/png": "[encoded data removed]",
            "text/plain": [
              "<Figure size 432x288 with 1 Axes>"
            ]
          },
          "metadata": {
            "needs_background": "light",
            "tags": []
          },
          "output_type": "display_data"
        }
      ],
      "source": [
        "plt.imshow(visible_frame[15])"
      ]
    },
    {
      "cell_type": "markdown",
      "metadata": {
        "id": "dasb456n1JtA"
      },
      "source": [
        "**Pre-Trained Model: DenseNet201**"
      ]
    },
    {
      "cell_type": "code",
      "execution_count": null,
      "metadata": {
        "colab": {
          "base_uri": "https://localhost:8080/"
        },
        "id": "8JU-KXdgWYsj",
        "outputId": "bcfcbc72-967e-4fc5-d46c-f3c834667c38"
      },
      "outputs": [
        {
          "name": "stdout",
          "output_type": "stream",
          "text": [
            "Downloading data from https://storage.googleapis.com/tensorflow/keras-applications/densenet/densenet201_weights_tf_dim_ordering_tf_kernels.h5\n",
            "82526208/82524592 [==============================] - 1s 0us/step\n",
            "82534400/82524592 [==============================] - 1s 0us/step\n"
          ]
        }
      ],
      "source": [
        "image_model = DenseNet201(include_top=True, weights='imagenet')"
      ]
    },
    {
      "cell_type": "markdown",
      "metadata": {
        "id": "j5JoZb631n9g"
      },
      "source": [
        "**The model summary**"
      ]
    },
    {
      "cell_type": "code",
      "execution_count": null,
      "metadata": {
        "colab": {
          "base_uri": "https://localhost:8080/"
        },
        "id": "vAS1qTYGWYnN",
        "outputId": "f09e8080-5ad2-4707-e624-7d85e4db297e"
      },
      "outputs": [],
      "source": [
        "image_model.summary()"
      ]
    },
    {
      "cell_type": "code",
      "execution_count": null,
      "metadata": {
        "colab": {
          "base_uri": "https://localhost:8080/"
        },
        "id": "2-iPePNGWYfY",
        "outputId": "2fb6432b-2cce-4a80-a568-f2e9389da529"
      },
      "outputs": [
        {
          "data": {
            "text/plain": [
              "[]"
            ]
          },
          "execution_count": 21,
          "metadata": {
            "tags": []
          },
          "output_type": "execute_result"
        }
      ],
      "source": [
        "input_shape = image_model.layers[0].output_shape[1:3]\n",
        "input_shape"
      ]
    },
    {
      "cell_type": "markdown",
      "metadata": {
        "id": "SfQuSv88ExP9"
      },
      "source": [
        "**DenseNet201 model flowchart**"
      ]
    },
    {
      "cell_type": "markdown",
      "metadata": {
        "id": "gLAkO8cu94n4"
      },
      "source": [
        "Saving the so-called Transfer Values to a cache-file.\n",
        "\n",
        "The reason for using a cache-file is that it takes a long time to process an image with the DenseNet201 model. If each image is processed more than once then we can save a lot of time by caching the transfer-values.\n",
        "\n",
        "When all the videos have been processed through the DenseNet201 model and the resulting transfer-values saved to a cache file, then we can use those transfer-values as the input to LSTM neural network. We will then train the second neural network using the classes from the violence dataset (Violence, No-Violence), so the network learns how to classify images based on the transfer-values from the DenseNet201 model."
      ]
    },
    {
      "cell_type": "code",
      "execution_count": null,
      "metadata": {
        "colab": {
          "base_uri": "https://localhost:8080/"
        },
        "id": "5hFqBL2DYNfb",
        "outputId": "9568be6b-82d8-40d9-cded-0ec30cc66148"
      },
      "outputs": [
        {
          "name": "stdout",
          "output_type": "stream",
          "text": [
            "The input of the DenseNet201 net have dimensions: (224, 224)\n",
            "The output of the selecter layer of DenseNet201 net have dimensions:  1920\n"
          ]
        }
      ],
      "source": [
        "# Using the output of the layer final\n",
        "# classification-layer which is named fc1000. This is a fully-connected (or dense) layer.\n",
        "transfer_layer = image_model.get_layer('avg_pool')\n",
        "\n",
        "image_model_transfer = Model(inputs=image_model.input,\n",
        "                             outputs=transfer_layer.output)\n",
        "\n",
        "transfer_values_size = K.int_shape(transfer_layer.output)[1]\n",
        "\n",
        "\n",
        "print(\"The input of the DenseNet201 net have dimensions:\",K.int_shape(image_model.input)[1:3])\n",
        "\n",
        "print(\"The output of the selecter layer of DenseNet201 net have dimensions: \", transfer_values_size)"
      ]
    },
    {
      "cell_type": "markdown",
      "metadata": {
        "id": "B7AqrwRdKtGO"
      },
      "source": [
        "**Function to process 20 video frames through DenseNet201 and get transfer value**"
      ]
    },
    {
      "cell_type": "code",
      "execution_count": null,
      "metadata": {
        "id": "qVUAmKDiYNsA"
      },
      "outputs": [],
      "source": [
        "def get_transfer_values(current_dir, file_name):\n",
        "    \n",
        "    # Pre-allocate input-batch-array for images.\n",
        "    shape = (_images_per_file,) + img_size_touple + (3,)\n",
        "    \n",
        "    image_batch = np.zeros(shape=shape, dtype=np.float16)\n",
        "    \n",
        "    image_batch = get_frames(current_dir, file_name)\n",
        "      \n",
        "    # Pre-allocate output-array for transfer-values.\n",
        "    # Note that we use 16-bit floating-points to save memory.\n",
        "    shape = (_images_per_file, transfer_values_size)\n",
        "    transfer_values = np.zeros(shape=shape, dtype=np.float16)\n",
        "\n",
        "    transfer_values = \\\n",
        "            image_model_transfer.predict(image_batch)\n",
        "            \n",
        "    return transfer_values"
      ]
    },
    {
      "cell_type": "markdown",
      "metadata": {
        "id": "C2L4Ck2vMQi3"
      },
      "source": [
        "\n",
        "**Generator that process one video through DenseNet201 each function call**"
      ]
    },
    {
      "cell_type": "markdown",
      "metadata": {
        "id": "8md91AXNRT_M"
      },
      "source": [
        "USED in make_files and make_files_test"
      ]
    },
    {
      "cell_type": "code",
      "execution_count": null,
      "metadata": {
        "id": "ioV30SQoYN0S"
      },
      "outputs": [],
      "source": [
        "def proces_transfer(vid_names, in_dir, labels):\n",
        "    \n",
        "    count = 0\n",
        "    \n",
        "    tam = len(vid_names)\n",
        "    \n",
        "    # Pre-allocate input-batch-array for images.\n",
        "    shape = (_images_per_file,) + img_size_touple + (3,)\n",
        "    \n",
        "    while count<tam:\n",
        "        \n",
        "        video_name = vid_names[count]\n",
        "        \n",
        "        image_batch = np.zeros(shape=shape, dtype=np.float16)\n",
        "    \n",
        "        image_batch = get_frames(in_dir, video_name)\n",
        "        \n",
        "         # Note that we use 16-bit floating-points to save memory.\n",
        "        shape = (_images_per_file, transfer_values_size)\n",
        "        transfer_values = np.zeros(shape=shape, dtype=np.float16)\n",
        "        \n",
        "        transfer_values = \\\n",
        "            image_model_transfer.predict(image_batch)\n",
        "         \n",
        "        labels1 = labels[count]\n",
        "        \n",
        "        aux = np.ones([40,2])\n",
        "        \n",
        "        labelss = labels1*aux\n",
        "        \n",
        "        yield transfer_values, labelss\n",
        "        \n",
        "        count+=1"
      ]
    },
    {
      "cell_type": "markdown",
      "metadata": {
        "id": "DveptGDwyOzC"
      },
      "source": [
        "**Functions to save transfer values from DenseNet201 to later use**"
      ]
    },
    {
      "cell_type": "markdown",
      "metadata": {
        "id": "08331GNjyLwK"
      },
      "source": [
        "Defining functions to get the transfer values from DenseNet201 with defined number of files. Then save the transfer values files used from training in one file and the ones uses for testing in another one."
      ]
    },
    {
      "cell_type": "code",
      "execution_count": null,
      "metadata": {
        "id": "WqlD_F62YNyx"
      },
      "outputs": [],
      "source": [
        "def make_files(n_files):\n",
        "    \n",
        "    gen = proces_transfer(names_training, in_dir, labels_training)\n",
        "\n",
        "    numer = 1\n",
        "\n",
        "    # Read the first chunk to get the column dtypes\n",
        "    chunk = next(gen)\n",
        "\n",
        "    row_count = chunk[0].shape[0] #20\n",
        "    row_count2 = chunk[1].shape[0] #20\n",
        "    \n",
        "    with h5py.File('prueba.h5', 'w') as f:\n",
        "    \n",
        "        # Initialize a resizable dataset to hold the output\n",
        "        maxshape = (None,) + chunk[0].shape[1:]\n",
        "        maxshape2 = (None,) + chunk[1].shape[1:]\n",
        "    \n",
        "    \n",
        "        dset = f.create_dataset('data', shape=chunk[0].shape, maxshape=maxshape,\n",
        "                                chunks=chunk[0].shape, dtype=chunk[0].dtype)\n",
        "    \n",
        "        dset2 = f.create_dataset('labels', shape=chunk[1].shape, maxshape=maxshape2,\n",
        "                                 chunks=chunk[1].shape, dtype=chunk[1].dtype)\n",
        "    \n",
        "         # Write the first chunk of rows\n",
        "        dset[:] = chunk[0]\n",
        "        dset2[:] = chunk[1]\n",
        "\n",
        "        for chunk in gen:\n",
        "            \n",
        "            if numer == n_files:\n",
        "            \n",
        "                break\n",
        "\n",
        "            # Resize the dataset to accommodate the next chunk of rows\n",
        "            dset.resize(row_count + chunk[0].shape[0], axis=0)\n",
        "            dset2.resize(row_count2 + chunk[1].shape[0], axis=0)\n",
        "\n",
        "             # Write the next chunk\n",
        "            dset[row_count:] = chunk[0]\n",
        "            dset2[row_count:] = chunk[1]\n",
        "\n",
        "            # Increment the row count\n",
        "            row_count += chunk[0].shape[0]\n",
        "            row_count2 += chunk[1].shape[0]\n",
        "            \n",
        "            print_progress(numer, n_files)\n",
        "        \n",
        "            numer += 1"
      ]
    },
    {
      "cell_type": "code",
      "execution_count": null,
      "metadata": {
        "id": "5pydsI2KY_iz"
      },
      "outputs": [],
      "source": [
        "def make_files_test(n_files):\n",
        "    \n",
        "    gen = proces_transfer(names_test, in_dir_2, labels_test)\n",
        "\n",
        "    numer = 1\n",
        "\n",
        "    # Read the first chunk to get the column dtypes\n",
        "    chunk = next(gen)\n",
        "\n",
        "    row_count = chunk[0].shape[0]\n",
        "    row_count2 = chunk[1].shape[0]\n",
        "    \n",
        "    with h5py.File('pruebavalidation.h5', 'w') as f:\n",
        "    \n",
        "        # Initialize a resizable dataset to hold the output\n",
        "        maxshape = (None,) + chunk[0].shape[1:]\n",
        "        maxshape2 = (None,) + chunk[1].shape[1:]\n",
        "    \n",
        "    \n",
        "        dset = f.create_dataset('data', shape=chunk[0].shape, maxshape=maxshape,\n",
        "                                chunks=chunk[0].shape, dtype=chunk[0].dtype)\n",
        "    \n",
        "        dset2 = f.create_dataset('labels', shape=chunk[1].shape, maxshape=maxshape2,\n",
        "                                 chunks=chunk[1].shape, dtype=chunk[1].dtype)\n",
        "    \n",
        "         # Write the first chunk of rows\n",
        "        dset[:] = chunk[0]\n",
        "        dset2[:] = chunk[1]\n",
        "\n",
        "        for chunk in gen:\n",
        "            \n",
        "            if numer == n_files:\n",
        "            \n",
        "                break\n",
        "\n",
        "            # Resize the dataset to accommodate the next chunk of rows\n",
        "            dset.resize(row_count + chunk[0].shape[0], axis=0)\n",
        "            dset2.resize(row_count2 + chunk[1].shape[0], axis=0)\n",
        "\n",
        "            # Write the next chunk\n",
        "            dset[row_count:] = chunk[0]\n",
        "            dset2[row_count:] = chunk[1]\n",
        "\n",
        "            # Increment the row count\n",
        "            row_count += chunk[0].shape[0]\n",
        "            row_count2 += chunk[1].shape[0]\n",
        "            \n",
        "            print_progress(numer, n_files)\n",
        "        \n",
        "            numer += 1"
      ]
    },
    {
      "cell_type": "markdown",
      "metadata": {
        "id": "qDpx6JmuPSSf"
      },
      "source": [
        "**Split the dataset into training set and test set**"
      ]
    },
    {
      "cell_type": "markdown",
      "metadata": {
        "id": "KB5xrkBoRE5u"
      },
      "source": [
        "The training set is used to train the model and the test set to check the model accuracy."
      ]
    },
    {
      "cell_type": "code",
      "execution_count": null,
      "metadata": {
        "colab": {
          "base_uri": "https://localhost:8080/"
        },
        "id": "IwQ-ojyifW2L",
        "outputId": "b83be733-8e4a-46fc-fe34-881a4fe95849"
      },
      "outputs": [],
      "source": [
        "in_dir_2 = 'testing-dataset-path'\n",
        "print(in_dir_2)\n",
        "names2, labels2 = label_video_names(in_dir_2)\n",
        "#names2 = video_names(in_dir_2)\n",
        "print (\"Done!\")"
      ]
    },
    {
      "cell_type": "code",
      "execution_count": null,
      "metadata": {
        "id": "kfZQsEogY_p8"
      },
      "outputs": [],
      "source": [
        "training_set = int(len(names))\n",
        "test_set = int(len(names2))\n",
        "\n",
        "names_training = names[0:training_set]\n",
        "names_test = names2[0:test_set]\n",
        "\n",
        "labels_training = labels[0:training_set]\n",
        "labels_test = labels2[0:test_set]"
      ]
    },
    {
      "cell_type": "markdown",
      "metadata": {
        "id": "4hVXSs5R1Zen"
      },
      "source": [
        "**Processing all video frames through DenseNet201 and saving the transfer values in disk**"
      ]
    },
    {
      "cell_type": "code",
      "execution_count": null,
      "metadata": {
        "colab": {
          "base_uri": "https://localhost:8080/"
        },
        "id": "pvfSGuqeY_xh",
        "outputId": "9b3c2ef0-cddf-41f3-b49c-4b987299238e"
      },
      "outputs": [
        {
          "name": "stdout",
          "output_type": "stream",
          "text": [
            "- Progress: 100.0%Time TV:  3157.264802978\n"
          ]
        }
      ],
      "source": [
        "start_TV = timeit.default_timer()\n",
        "\n",
        "make_files(training_set)\n",
        "\n",
        "stop_TV = timeit.default_timer()\n",
        "\n",
        "print('Time TV: ', stop_TV - start_TV)  "
      ]
    },
    {
      "cell_type": "code",
      "execution_count": null,
      "metadata": {
        "colab": {
          "base_uri": "https://localhost:8080/"
        },
        "id": "9ry7MecRY_wd",
        "outputId": "98456751-00c3-46c9-f635-28f3f2c708bd"
      },
      "outputs": [
        {
          "name": "stdout",
          "output_type": "stream",
          "text": [
            "- Progress: 99.3%"
          ]
        }
      ],
      "source": [
        "make_files_test(test_set)"
      ]
    },
    {
      "cell_type": "markdown",
      "metadata": {
        "id": "t_8iHSEh1Gd8"
      },
      "source": [
        "**Load the cached transfer values into memory**"
      ]
    },
    {
      "cell_type": "markdown",
      "metadata": {
        "id": "h7dfCZXr1GGV"
      },
      "source": [
        "Saved all the videos transfer values into disk. But we have to load those transfer values into memory in order to train the LSTM net.Training the LSTM in different ways in order to see which way gets the best accuracy, if you didn't save the transfer values into disk you would have to process the whole videos each training. It's very time consuming processing the videos through DenseNet201.\n",
        "\n",
        "In order to load the saved transfer values into RAM memory we are going to use this two functions:"
      ]
    },
    {
      "cell_type": "code",
      "execution_count": null,
      "metadata": {
        "id": "Wn8szJJwZuVU"
      },
      "outputs": [],
      "source": [
        "\n",
        "def process_alldata_training():\n",
        "    \n",
        "    joint_transfer=[]\n",
        "    frames_num=40\n",
        "    count = 0\n",
        "    \n",
        "    with h5py.File('prueba.h5', 'r') as f:\n",
        "            \n",
        "        X_batch = f['data'][:]\n",
        "        y_batch = f['labels'][:]\n",
        "\n",
        "    for i in range(int(len(X_batch)/frames_num)):\n",
        "        inc = count+frames_num\n",
        "        joint_transfer.append([X_batch[count:inc],y_batch[count]])\n",
        "        count =inc\n",
        "        \n",
        "    data =[]\n",
        "    target=[]\n",
        "    \n",
        "    for i in joint_transfer:\n",
        "        data.append(i[0])\n",
        "        target.append(np.array(i[1]))\n",
        "        \n",
        "    return data, target"
      ]
    },
    {
      "cell_type": "code",
      "execution_count": null,
      "metadata": {
        "id": "pwx-uY2_Zubm"
      },
      "outputs": [],
      "source": [
        "\n",
        "def process_alldata_test():\n",
        "    \n",
        "    joint_transfer=[]\n",
        "    frames_num=40\n",
        "    count = 0\n",
        "    \n",
        "    with h5py.File('pruebavalidation.h5', 'r') as f:\n",
        "            \n",
        "        X_batch = f['data'][:]\n",
        "        y_batch = f['labels'][:]\n",
        "\n",
        "    for i in range(int(len(X_batch)/frames_num)):\n",
        "        inc = count+frames_num\n",
        "        joint_transfer.append([X_batch[count:inc],y_batch[count]])\n",
        "        count =inc\n",
        "        \n",
        "    data =[]\n",
        "    target=[]\n",
        "    \n",
        "    for i in joint_transfer:\n",
        "        data.append(i[0])\n",
        "        target.append(np.array(i[1]))\n",
        "        \n",
        "    return data, target"
      ]
    },
    {
      "cell_type": "code",
      "execution_count": null,
      "metadata": {
        "id": "1LPvcxOwZuaH"
      },
      "outputs": [],
      "source": [
        "data, target = process_alldata_training()\n"
      ]
    },
    {
      "cell_type": "code",
      "execution_count": null,
      "metadata": {
        "id": "IqnSNC56ZuTZ"
      },
      "outputs": [],
      "source": [
        "data_test, target_test = process_alldata_test()"
      ]
    },
    {
      "cell_type": "markdown",
      "metadata": {
        "id": "0gANVaFeVj98"
      },
      "source": [
        "\n",
        "**Recurrent Neural Network** "
      ]
    },
    {
      "cell_type": "markdown",
      "metadata": {
        "id": "yg2s9Ck6WSXF"
      },
      "source": [
        "**Define LSTM architecture**"
      ]
    },
    {
      "cell_type": "code",
      "execution_count": null,
      "metadata": {
        "colab": {
          "base_uri": "https://localhost:8080/"
        },
        "id": "TyiPwLzVoE8o",
        "outputId": "aacf2cd5-7b42-4fe2-ace4-59f351113415"
      },
      "outputs": [
        {
          "name": "stdout",
          "output_type": "stream",
          "text": [
            "Model: \"sequential\"\n",
            "_________________________________________________________________\n",
            "Layer (type)                 Output Shape              Param #   \n",
            "=================================================================\n",
            "lstm (LSTM)                  (None, 512)               4982784   \n",
            "_________________________________________________________________\n",
            "dense (Dense)                (None, 1024)              525312    \n",
            "_________________________________________________________________\n",
            "activation (Activation)      (None, 1024)              0         \n",
            "_________________________________________________________________\n",
            "dense_1 (Dense)              (None, 50)                51250     \n",
            "_________________________________________________________________\n",
            "activation_1 (Activation)    (None, 50)                0         \n",
            "_________________________________________________________________\n",
            "dense_2 (Dense)              (None, 2)                 102       \n",
            "_________________________________________________________________\n",
            "activation_2 (Activation)    (None, 2)                 0         \n",
            "=================================================================\n",
            "Total params: 5,559,448\n",
            "Trainable params: 5,559,448\n",
            "Non-trainable params: 0\n",
            "_________________________________________________________________\n",
            "None\n"
          ]
        }
      ],
      "source": [
        "start_LSTM = timeit.default_timer()\n",
        "\n",
        "# from keras.optimizers import adam,SGD,RMSprop\n",
        "chunk_size = 1920\n",
        "n_chunks = 40\n",
        "rnn_size = 512\n",
        "\n",
        "model = Sequential()\n",
        "model.add(LSTM(rnn_size, input_shape=(n_chunks, chunk_size)))\n",
        "model.add(Dense(1024))\n",
        "model.add(Activation('relu'))\n",
        "model.add(Dense(50))\n",
        "model.add(Activation('sigmoid'))\n",
        "model.add(Dense(2))\n",
        "model.add(Activation('softmax'))\n",
        "print(model.summary())\n",
        "\n",
        "model.compile(loss='mean_squared_error', optimizer='adam' ,metrics=['accuracy'])"
      ]
    },
    {
      "cell_type": "code",
      "execution_count": null,
      "metadata": {
        "colab": {
          "base_uri": "https://localhost:8080/"
        },
        "id": "pcz2uiulZ_hZ",
        "outputId": "da917682-e188-4a53-e33d-f2c071dc9975"
      },
      "outputs": [
        {
          "name": "stdout",
          "output_type": "stream",
          "text": [
            "Epoch 1/100\n",
            "7/7 - 16s - loss: 0.2489 - accuracy: 0.6478 - val_loss: 0.2402 - val_accuracy: 0.6000\n",
            "Epoch 2/100\n",
            "7/7 - 1s - loss: 0.1513 - accuracy: 0.7809 - val_loss: 0.1845 - val_accuracy: 0.7000\n",
            "Epoch 3/100\n",
            "7/7 - 1s - loss: 0.1026 - accuracy: 0.8649 - val_loss: 0.1792 - val_accuracy: 0.7400\n",
            "Epoch 4/100\n",
            "7/7 - 1s - loss: 0.0870 - accuracy: 0.8870 - val_loss: 0.1560 - val_accuracy: 0.8000\n",
            "Epoch 5/100\n",
            "7/7 - 1s - loss: 0.0743 - accuracy: 0.9078 - val_loss: 0.1453 - val_accuracy: 0.8200\n",
            "Epoch 6/100\n",
            "7/7 - 1s - loss: 0.0662 - accuracy: 0.9128 - val_loss: 0.1606 - val_accuracy: 0.7600\n",
            "Epoch 7/100\n",
            "7/7 - 1s - loss: 0.0598 - accuracy: 0.9223 - val_loss: 0.1736 - val_accuracy: 0.7800\n",
            "Epoch 8/100\n",
            "7/7 - 1s - loss: 0.0472 - accuracy: 0.9420 - val_loss: 0.1656 - val_accuracy: 0.8000\n",
            "Epoch 9/100\n",
            "7/7 - 1s - loss: 0.0405 - accuracy: 0.9513 - val_loss: 0.1597 - val_accuracy: 0.8200\n",
            "Epoch 10/100\n",
            "7/7 - 1s - loss: 0.0391 - accuracy: 0.9528 - val_loss: 0.1713 - val_accuracy: 0.7600\n",
            "Epoch 11/100\n",
            "7/7 - 1s - loss: 0.0353 - accuracy: 0.9568 - val_loss: 0.1681 - val_accuracy: 0.8200\n",
            "Epoch 12/100\n",
            "7/7 - 1s - loss: 0.0319 - accuracy: 0.9600 - val_loss: 0.1657 - val_accuracy: 0.8000\n",
            "Epoch 13/100\n",
            "7/7 - 1s - loss: 0.0343 - accuracy: 0.9577 - val_loss: 0.1794 - val_accuracy: 0.7800\n",
            "Epoch 14/100\n",
            "7/7 - 1s - loss: 0.0415 - accuracy: 0.9441 - val_loss: 0.1815 - val_accuracy: 0.7800\n",
            "Epoch 15/100\n",
            "7/7 - 1s - loss: 0.0313 - accuracy: 0.9600 - val_loss: 0.1766 - val_accuracy: 0.7800\n",
            "Epoch 16/100\n",
            "7/7 - 1s - loss: 0.0259 - accuracy: 0.9699 - val_loss: 0.1625 - val_accuracy: 0.8000\n",
            "Epoch 17/100\n",
            "7/7 - 1s - loss: 0.0218 - accuracy: 0.9742 - val_loss: 0.1790 - val_accuracy: 0.7800\n",
            "Epoch 18/100\n",
            "7/7 - 1s - loss: 0.0191 - accuracy: 0.9774 - val_loss: 0.1900 - val_accuracy: 0.7800\n",
            "Epoch 19/100\n",
            "7/7 - 1s - loss: 0.0155 - accuracy: 0.9835 - val_loss: 0.1836 - val_accuracy: 0.7600\n",
            "Epoch 20/100\n",
            "7/7 - 1s - loss: 0.0147 - accuracy: 0.9832 - val_loss: 0.1931 - val_accuracy: 0.7800\n",
            "Epoch 21/100\n",
            "7/7 - 1s - loss: 0.0124 - accuracy: 0.9870 - val_loss: 0.1728 - val_accuracy: 0.8200\n",
            "Epoch 22/100\n",
            "7/7 - 1s - loss: 0.0115 - accuracy: 0.9881 - val_loss: 0.1718 - val_accuracy: 0.7800\n",
            "Epoch 23/100\n",
            "7/7 - 1s - loss: 0.0120 - accuracy: 0.9855 - val_loss: 0.1880 - val_accuracy: 0.8000\n",
            "Epoch 24/100\n",
            "7/7 - 1s - loss: 0.0101 - accuracy: 0.9896 - val_loss: 0.1691 - val_accuracy: 0.8000\n",
            "Epoch 25/100\n",
            "7/7 - 1s - loss: 0.0080 - accuracy: 0.9916 - val_loss: 0.2108 - val_accuracy: 0.7600\n",
            "Epoch 26/100\n",
            "7/7 - 1s - loss: 0.0070 - accuracy: 0.9930 - val_loss: 0.2192 - val_accuracy: 0.7600\n",
            "Epoch 27/100\n",
            "7/7 - 1s - loss: 0.0084 - accuracy: 0.9910 - val_loss: 0.1937 - val_accuracy: 0.7600\n",
            "Epoch 28/100\n",
            "7/7 - 1s - loss: 0.0071 - accuracy: 0.9919 - val_loss: 0.1683 - val_accuracy: 0.8000\n",
            "Epoch 29/100\n",
            "7/7 - 1s - loss: 0.0060 - accuracy: 0.9942 - val_loss: 0.1628 - val_accuracy: 0.8000\n",
            "Epoch 30/100\n",
            "7/7 - 1s - loss: 0.0068 - accuracy: 0.9930 - val_loss: 0.1689 - val_accuracy: 0.8200\n",
            "Epoch 31/100\n",
            "7/7 - 1s - loss: 0.0082 - accuracy: 0.9904 - val_loss: 0.1416 - val_accuracy: 0.8600\n",
            "Epoch 32/100\n",
            "7/7 - 1s - loss: 0.0129 - accuracy: 0.9838 - val_loss: 0.1779 - val_accuracy: 0.8200\n",
            "Epoch 33/100\n",
            "7/7 - 1s - loss: 0.0151 - accuracy: 0.9803 - val_loss: 0.1945 - val_accuracy: 0.7600\n",
            "Epoch 34/100\n",
            "7/7 - 1s - loss: 0.0286 - accuracy: 0.9617 - val_loss: 0.1497 - val_accuracy: 0.8400\n",
            "Epoch 35/100\n",
            "7/7 - 1s - loss: 0.0296 - accuracy: 0.9626 - val_loss: 0.1686 - val_accuracy: 0.8200\n",
            "Epoch 36/100\n",
            "7/7 - 1s - loss: 0.0360 - accuracy: 0.9481 - val_loss: 0.1752 - val_accuracy: 0.8000\n",
            "Epoch 37/100\n",
            "7/7 - 1s - loss: 0.0242 - accuracy: 0.9690 - val_loss: 0.1608 - val_accuracy: 0.8200\n",
            "Epoch 38/100\n",
            "7/7 - 1s - loss: 0.0196 - accuracy: 0.9748 - val_loss: 0.1555 - val_accuracy: 0.8200\n",
            "Epoch 39/100\n",
            "7/7 - 1s - loss: 0.0113 - accuracy: 0.9852 - val_loss: 0.1694 - val_accuracy: 0.8000\n",
            "Epoch 40/100\n",
            "7/7 - 1s - loss: 0.0067 - accuracy: 0.9930 - val_loss: 0.1794 - val_accuracy: 0.7800\n",
            "Epoch 41/100\n",
            "7/7 - 1s - loss: 0.0047 - accuracy: 0.9959 - val_loss: 0.1727 - val_accuracy: 0.8000\n",
            "Epoch 42/100\n",
            "7/7 - 1s - loss: 0.0037 - accuracy: 0.9968 - val_loss: 0.1699 - val_accuracy: 0.8200\n",
            "Epoch 43/100\n",
            "7/7 - 1s - loss: 0.0033 - accuracy: 0.9968 - val_loss: 0.1695 - val_accuracy: 0.8000\n",
            "Epoch 44/100\n",
            "7/7 - 1s - loss: 0.0031 - accuracy: 0.9971 - val_loss: 0.1697 - val_accuracy: 0.8000\n",
            "Epoch 45/100\n",
            "7/7 - 1s - loss: 0.0031 - accuracy: 0.9968 - val_loss: 0.1740 - val_accuracy: 0.8200\n",
            "Epoch 46/100\n",
            "7/7 - 1s - loss: 0.0027 - accuracy: 0.9974 - val_loss: 0.1772 - val_accuracy: 0.8000\n",
            "Epoch 47/100\n",
            "7/7 - 1s - loss: 0.0027 - accuracy: 0.9974 - val_loss: 0.1738 - val_accuracy: 0.8000\n",
            "Epoch 48/100\n",
            "7/7 - 1s - loss: 0.0027 - accuracy: 0.9974 - val_loss: 0.1704 - val_accuracy: 0.8000\n",
            "Epoch 49/100\n",
            "7/7 - 1s - loss: 0.0027 - accuracy: 0.9974 - val_loss: 0.1705 - val_accuracy: 0.8200\n",
            "Epoch 50/100\n",
            "7/7 - 1s - loss: 0.0027 - accuracy: 0.9974 - val_loss: 0.1711 - val_accuracy: 0.8200\n",
            "Epoch 51/100\n",
            "7/7 - 1s - loss: 0.0026 - accuracy: 0.9974 - val_loss: 0.1719 - val_accuracy: 0.8000\n",
            "Epoch 52/100\n",
            "7/7 - 1s - loss: 0.0026 - accuracy: 0.9974 - val_loss: 0.1727 - val_accuracy: 0.8000\n",
            "Epoch 53/100\n",
            "7/7 - 1s - loss: 0.0026 - accuracy: 0.9974 - val_loss: 0.1730 - val_accuracy: 0.8200\n",
            "Epoch 54/100\n",
            "7/7 - 1s - loss: 0.0026 - accuracy: 0.9974 - val_loss: 0.1734 - val_accuracy: 0.8200\n",
            "Epoch 55/100\n",
            "7/7 - 1s - loss: 0.0026 - accuracy: 0.9974 - val_loss: 0.1735 - val_accuracy: 0.8200\n",
            "Epoch 56/100\n",
            "7/7 - 1s - loss: 0.0026 - accuracy: 0.9974 - val_loss: 0.1737 - val_accuracy: 0.8200\n",
            "Epoch 57/100\n",
            "7/7 - 1s - loss: 0.0026 - accuracy: 0.9974 - val_loss: 0.1737 - val_accuracy: 0.8200\n",
            "Epoch 58/100\n",
            "7/7 - 1s - loss: 0.0026 - accuracy: 0.9974 - val_loss: 0.1737 - val_accuracy: 0.8200\n",
            "Epoch 59/100\n",
            "7/7 - 1s - loss: 0.0026 - accuracy: 0.9974 - val_loss: 0.1734 - val_accuracy: 0.8200\n",
            "Epoch 60/100\n",
            "7/7 - 1s - loss: 0.0026 - accuracy: 0.9974 - val_loss: 0.1731 - val_accuracy: 0.8200\n",
            "Epoch 61/100\n",
            "7/7 - 1s - loss: 0.0026 - accuracy: 0.9974 - val_loss: 0.1730 - val_accuracy: 0.8200\n",
            "Epoch 62/100\n",
            "7/7 - 1s - loss: 0.0026 - accuracy: 0.9974 - val_loss: 0.1716 - val_accuracy: 0.8200\n",
            "Epoch 63/100\n",
            "7/7 - 1s - loss: 0.0025 - accuracy: 0.9974 - val_loss: 0.1711 - val_accuracy: 0.8200\n",
            "Epoch 64/100\n",
            "7/7 - 1s - loss: 0.0024 - accuracy: 0.9977 - val_loss: 0.1690 - val_accuracy: 0.8200\n",
            "Epoch 65/100\n",
            "7/7 - 1s - loss: 0.0023 - accuracy: 0.9977 - val_loss: 0.1635 - val_accuracy: 0.8200\n",
            "Epoch 66/100\n",
            "7/7 - 1s - loss: 0.0023 - accuracy: 0.9977 - val_loss: 0.1621 - val_accuracy: 0.8200\n",
            "Epoch 67/100\n",
            "7/7 - 1s - loss: 0.0023 - accuracy: 0.9977 - val_loss: 0.1638 - val_accuracy: 0.8200\n",
            "Epoch 68/100\n",
            "7/7 - 1s - loss: 0.0023 - accuracy: 0.9977 - val_loss: 0.1660 - val_accuracy: 0.8200\n",
            "Epoch 69/100\n",
            "7/7 - 1s - loss: 0.0023 - accuracy: 0.9977 - val_loss: 0.1673 - val_accuracy: 0.8200\n",
            "Epoch 70/100\n",
            "7/7 - 1s - loss: 0.0023 - accuracy: 0.9977 - val_loss: 0.1677 - val_accuracy: 0.8200\n",
            "Epoch 71/100\n",
            "7/7 - 1s - loss: 0.0023 - accuracy: 0.9977 - val_loss: 0.1678 - val_accuracy: 0.8200\n",
            "Epoch 72/100\n",
            "7/7 - 1s - loss: 0.0023 - accuracy: 0.9977 - val_loss: 0.1680 - val_accuracy: 0.8200\n",
            "Epoch 73/100\n",
            "7/7 - 1s - loss: 0.0023 - accuracy: 0.9977 - val_loss: 0.1682 - val_accuracy: 0.8200\n",
            "Epoch 74/100\n",
            "7/7 - 1s - loss: 0.0023 - accuracy: 0.9977 - val_loss: 0.1683 - val_accuracy: 0.8200\n",
            "Epoch 75/100\n",
            "7/7 - 1s - loss: 0.0023 - accuracy: 0.9977 - val_loss: 0.1686 - val_accuracy: 0.8200\n",
            "Epoch 76/100\n",
            "7/7 - 1s - loss: 0.0023 - accuracy: 0.9977 - val_loss: 0.1687 - val_accuracy: 0.8200\n",
            "Epoch 77/100\n",
            "7/7 - 1s - loss: 0.0023 - accuracy: 0.9977 - val_loss: 0.1690 - val_accuracy: 0.8200\n",
            "Epoch 78/100\n",
            "7/7 - 1s - loss: 0.0023 - accuracy: 0.9977 - val_loss: 0.1692 - val_accuracy: 0.8200\n",
            "Epoch 79/100\n",
            "7/7 - 1s - loss: 0.0023 - accuracy: 0.9977 - val_loss: 0.1694 - val_accuracy: 0.8200\n",
            "Epoch 80/100\n",
            "7/7 - 1s - loss: 0.0023 - accuracy: 0.9977 - val_loss: 0.1695 - val_accuracy: 0.8200\n",
            "Epoch 81/100\n",
            "7/7 - 1s - loss: 0.0023 - accuracy: 0.9977 - val_loss: 0.1697 - val_accuracy: 0.8200\n",
            "Epoch 82/100\n",
            "7/7 - 1s - loss: 0.0023 - accuracy: 0.9977 - val_loss: 0.1699 - val_accuracy: 0.8200\n",
            "Epoch 83/100\n",
            "7/7 - 1s - loss: 0.0023 - accuracy: 0.9977 - val_loss: 0.1701 - val_accuracy: 0.8200\n",
            "Epoch 84/100\n",
            "7/7 - 1s - loss: 0.0023 - accuracy: 0.9977 - val_loss: 0.1702 - val_accuracy: 0.8200\n",
            "Epoch 85/100\n",
            "7/7 - 1s - loss: 0.0023 - accuracy: 0.9977 - val_loss: 0.1703 - val_accuracy: 0.8200\n",
            "Epoch 86/100\n",
            "7/7 - 1s - loss: 0.0023 - accuracy: 0.9977 - val_loss: 0.1705 - val_accuracy: 0.8200\n",
            "Epoch 87/100\n",
            "7/7 - 1s - loss: 0.0023 - accuracy: 0.9977 - val_loss: 0.1707 - val_accuracy: 0.8200\n",
            "Epoch 88/100\n",
            "7/7 - 1s - loss: 0.0023 - accuracy: 0.9977 - val_loss: 0.1707 - val_accuracy: 0.8200\n",
            "Epoch 89/100\n",
            "7/7 - 1s - loss: 0.0023 - accuracy: 0.9977 - val_loss: 0.1708 - val_accuracy: 0.8200\n",
            "Epoch 90/100\n",
            "7/7 - 1s - loss: 0.0023 - accuracy: 0.9977 - val_loss: 0.1710 - val_accuracy: 0.8200\n",
            "Epoch 91/100\n",
            "7/7 - 1s - loss: 0.0023 - accuracy: 0.9977 - val_loss: 0.1711 - val_accuracy: 0.8200\n",
            "Epoch 92/100\n",
            "7/7 - 1s - loss: 0.0023 - accuracy: 0.9977 - val_loss: 0.1712 - val_accuracy: 0.8200\n",
            "Epoch 93/100\n",
            "7/7 - 1s - loss: 0.0023 - accuracy: 0.9977 - val_loss: 0.1713 - val_accuracy: 0.8200\n",
            "Epoch 94/100\n",
            "7/7 - 1s - loss: 0.0023 - accuracy: 0.9977 - val_loss: 0.1713 - val_accuracy: 0.8200\n",
            "Epoch 95/100\n",
            "7/7 - 1s - loss: 0.0023 - accuracy: 0.9977 - val_loss: 0.1714 - val_accuracy: 0.8200\n",
            "Epoch 96/100\n",
            "7/7 - 1s - loss: 0.0023 - accuracy: 0.9977 - val_loss: 0.1716 - val_accuracy: 0.8200\n",
            "Epoch 97/100\n",
            "7/7 - 1s - loss: 0.0023 - accuracy: 0.9977 - val_loss: 0.1716 - val_accuracy: 0.8200\n",
            "Epoch 98/100\n",
            "7/7 - 1s - loss: 0.0023 - accuracy: 0.9977 - val_loss: 0.1717 - val_accuracy: 0.8200\n",
            "Epoch 99/100\n",
            "7/7 - 1s - loss: 0.0023 - accuracy: 0.9977 - val_loss: 0.1718 - val_accuracy: 0.8200\n",
            "Epoch 100/100\n",
            "7/7 - 1s - loss: 0.0023 - accuracy: 0.9977 - val_loss: 0.1719 - val_accuracy: 0.8200\n"
          ]
        }
      ],
      "source": [
        "epoch = 100\n",
        "batchS = 500\n",
        "\n",
        "history = model.fit(np.array(data[0:3450]), np.array(target[0:3450]), epochs=epoch,\n",
        "                    validation_data=(np.array(data[3450:]), np.array(target[3450:])), \n",
        "                    batch_size=batchS, verbose=2)"
      ]
    },
    {
      "cell_type": "markdown",
      "metadata": {
        "id": "MP2zAC5opfRo"
      },
      "source": [
        "**Test the model**"
      ]
    },
    {
      "cell_type": "markdown",
      "metadata": {
        "id": "9TTkgnUfpbP1"
      },
      "source": [
        "\n",
        "\n",
        "We are going to test the model with % of the total videos. This videos have not been used to train the network."
      ]
    },
    {
      "cell_type": "code",
      "execution_count": null,
      "metadata": {
        "colab": {
          "base_uri": "https://localhost:8080/"
        },
        "id": "8fODZu8waPEJ",
        "outputId": "5f8d1520-1aba-4370-a58b-89b7b8a6a83e"
      },
      "outputs": [
        {
          "name": "stdout",
          "output_type": "stream",
          "text": [
            "5/5 [==============================] - 0s 9ms/step - loss: 0.1076 - accuracy: 0.8667\n"
          ]
        }
      ],
      "source": [
        "result = model.evaluate(np.array(data_test), np.array(target_test))"
      ]
    },
    {
      "cell_type": "markdown",
      "metadata": {
        "id": "baZ920SfqADP"
      },
      "source": [
        "\n",
        "**Print the model accuracy**"
      ]
    },
    {
      "cell_type": "code",
      "execution_count": null,
      "metadata": {
        "colab": {
          "base_uri": "https://localhost:8080/"
        },
        "id": "S6UQbZd4aPWM",
        "outputId": "e51aa504-8892-4763-ff10-806f4118f2d2"
      },
      "outputs": [
        {
          "name": "stdout",
          "output_type": "stream",
          "text": [
            "loss 0.10757079720497131\n",
            "accuracy 0.8666666746139526\n"
          ]
        }
      ],
      "source": [
        "for name, value in zip(model.metrics_names, result):\n",
        "    print(name, value)"
      ]
    },
    {
      "cell_type": "code",
      "execution_count": null,
      "metadata": {
        "colab": {
          "base_uri": "https://localhost:8080/"
        },
        "id": "jwg4fsajUpXj",
        "outputId": "159eaff1-bd1b-47f7-b298-1e4145608206"
      },
      "outputs": [
        {
          "name": "stdout",
          "output_type": "stream",
          "text": [
            "Time LSTM:  150.76894356499997\n"
          ]
        }
      ],
      "source": [
        "stop_LSTM = timeit.default_timer()\n",
        "\n",
        "print('Time LSTM: ', stop_LSTM - start_LSTM)  "
      ]
    },
    {
      "cell_type": "markdown",
      "metadata": {
        "id": "CmqqIj0UqMLy"
      },
      "source": [
        "PLOTING ACCURACY VS EPOCH AND LOSS VS EPOCH"
      ]
    },
    {
      "cell_type": "code",
      "execution_count": null,
      "metadata": {
        "colab": {
          "base_uri": "https://localhost:8080/",
          "height": 299
        },
        "id": "zCYea6wbx51D",
        "outputId": "641f527b-f0f2-4c19-f415-092cd4893c3b"
      },
      "outputs": [
        {
          "data": {
            "image/png": "[encoded data removed]",
            "text/plain": [
              "<Figure size 432x288 with 1 Axes>"
            ]
          },
          "metadata": {
            "tags": []
          },
          "output_type": "display_data"
        }
      ],
      "source": [
        "# plot the training loss and accuracy\n",
        "N = epoch\n",
        "plt.style.use(\"ggplot\")\n",
        "plt.figure()\n",
        "plt.plot(np.arange(0, N), history.history[\"loss\"], label=\"train_loss\")\n",
        "# plt.plot(np.arange(0, N), history.history[\"val_loss\"], label=\"val_loss\")\n",
        "plt.plot(np.arange(0, N), history.history[\"accuracy\"], label=\"train_acc\")\n",
        "# plt.plot(np.arange(0, N), history.history[\"val_accuracy\"], label=\"val_acc\")\n",
        "plt.title(\"Training Loss and Accuracy\")\n",
        "plt.xlabel(\"Epoch\")\n",
        "plt.ylabel(\"Loss/Accuracy\")\n",
        "plt.legend(loc=\"lower left\")\n",
        "plt.savefig('model_accuracy2.jpg')"
      ]
    },
    {
      "cell_type": "code",
      "execution_count": null,
      "metadata": {
        "colab": {
          "base_uri": "https://localhost:8080/",
          "height": 299
        },
        "id": "C2dpDMrqxCmj",
        "outputId": "71d4239f-50b9-4c2a-8baa-4c1e810cc57d"
      },
      "outputs": [],
      "source": [
        "# plot the training loss and accuracy\n",
        "N = epoch\n",
        "plt.style.use(\"ggplot\")\n",
        "plt.figure()\n",
        "plt.plot(np.arange(0, N), history.history[\"loss\"], label=\"train_loss\")\n",
        "plt.plot(np.arange(0, N), history.history[\"val_loss\"], label=\"val_loss\")\n",
        "plt.plot(np.arange(0, N), history.history[\"accuracy\"], label=\"train_acc\")\n",
        "plt.plot(np.arange(0, N), history.history[\"val_accuracy\"], label=\"val_acc\")\n",
        "plt.title(\"Training Loss and Accuracy\")\n",
        "plt.xlabel(\"Epoch\")\n",
        "plt.ylabel(\"Loss/Accuracy\")\n",
        "plt.legend(loc=\"lower left\")\n",
        "plt.savefig('model_loss2.jpg')"
      ]
    },
    {
      "cell_type": "code",
      "execution_count": null,
      "metadata": {
        "colab": {
          "base_uri": "https://localhost:8080/",
          "height": 581
        },
        "id": "9mo-M_Kyv52O",
        "outputId": "78aabefa-4735-4774-f268-a6742d2dcc25"
      },
      "outputs": [
        {
          "data": {
            "image/png": "[encoded data removed]",
            "text/plain": [
              "<Figure size 432x288 with 1 Axes>"
            ]
          },
          "metadata": {
            "tags": []
          },
          "output_type": "display_data"
        },
        {
          "data": {
            "image/png": "[encoded data removed]",
            "text/plain": [
              "<Figure size 432x288 with 1 Axes>"
            ]
          },
          "metadata": {
            "tags": []
          },
          "output_type": "display_data"
        }
      ],
      "source": [
        "# summarize history for accuracy\n",
        "plt.plot(history.history['accuracy'])\n",
        "plt.title('model accuracy')\n",
        "plt.ylabel('accuracy')\n",
        "plt.xlabel('epoch')\n",
        "plt.legend(['train'], loc='lower right')\n",
        "# plt.savefig('destination_path1.eps', format='eps', dpi=1000)\n",
        "plt.savefig('model_accuracy1.jpg')\n",
        "plt.show()\n",
        "\n",
        "# summarize history for loss\n",
        "plt.plot(history.history['loss'])\n",
        "plt.title('model loss')\n",
        "plt.ylabel('loss')\n",
        "plt.xlabel('epoch')\n",
        "plt.legend(['train'], loc='upper left')\n",
        "# plt.savefig('destination_path1.eps', format='eps', dpi=1000)\n",
        "plt.savefig('model_loss1.jpg')\n",
        "plt.show()"
      ]
    },
    {
      "cell_type": "code",
      "execution_count": null,
      "metadata": {
        "colab": {
          "base_uri": "https://localhost:8080/",
          "height": 581
        },
        "id": "6XkNxJo1RG5r",
        "outputId": "edc58c85-300b-4541-c69c-37b0684050d0"
      },
      "outputs": [],
      "source": [
        "# summarize history for accuracy\n",
        "plt.plot(history.history['accuracy'])\n",
        "plt.plot(history.history['val_accuracy'])\n",
        "plt.title('model accuracy')\n",
        "plt.ylabel('accuracy')\n",
        "plt.xlabel('epoch')\n",
        "plt.legend(['train', 'validation'], loc='lower right')\n",
        "# plt.savefig('destination_path1.eps', format='eps', dpi=1000)\n",
        "plt.savefig('model_accuracy.jpg')\n",
        "plt.show()\n",
        "\n",
        "# summarize history for loss\n",
        "plt.plot(history.history['loss'])\n",
        "plt.plot(history.history['val_loss'])\n",
        "plt.title('model loss')\n",
        "plt.ylabel('loss')\n",
        "plt.xlabel('epoch')\n",
        "plt.legend(['train', 'validation'], loc='upper left')\n",
        "# plt.savefig('destination_path1.eps', format='eps', dpi=1000)\n",
        "plt.savefig('model_loss.jpg')\n",
        "plt.show()"
      ]
    },
    {
      "cell_type": "markdown",
      "metadata": {
        "id": "Wze89JGV3lae"
      },
      "source": [
        "**ROC**"
      ]
    },
    {
      "cell_type": "code",
      "execution_count": null,
      "metadata": {
        "id": "RQ8woPwa9mY6"
      },
      "outputs": [],
      "source": [
        "# trainX-names_training\n",
        "# trainy-labels_training\n",
        "\n",
        "# testX-names_test\n",
        "# testy-labels_test"
      ]
    },
    {
      "cell_type": "code",
      "execution_count": null,
      "metadata": {
        "colab": {
          "base_uri": "https://localhost:8080/"
        },
        "id": "0-kNDbQW9mLa",
        "outputId": "8de42c1a-a9e3-4879-e63c-ce55358349a1"
      },
      "outputs": [
        {
          "data": {
            "text/plain": [
              "array(['V_ (1278).mp4', 'NV_ (1116).mp4', 'NV_ (721).mp4', ...,\n",
              "       'NV_ (909).mp4', 'V_ (1707).mp4', 'V_ (264).mp4'], dtype='<U14')"
            ]
          },
          "execution_count": 48,
          "metadata": {
            "tags": []
          },
          "output_type": "execute_result"
        }
      ],
      "source": [
        "trainX=np.array(names_training)\n",
        "trainX"
      ]
    },
    {
      "cell_type": "code",
      "execution_count": null,
      "metadata": {
        "colab": {
          "base_uri": "https://localhost:8080/"
        },
        "id": "M8qfgSEg9l8I",
        "outputId": "3e1ef3a7-e14c-4b5d-ab96-0fb6631a42e1"
      },
      "outputs": [],
      "source": [
        "testX=np.array(names_test)\n",
        "testX"
      ]
    },
    {
      "cell_type": "code",
      "execution_count": null,
      "metadata": {
        "colab": {
          "base_uri": "https://localhost:8080/"
        },
        "id": "wE8aBgtM-Js5",
        "outputId": "f1367d4e-04bd-46ad-93bf-53658b4be9cc"
      },
      "outputs": [
        {
          "data": {
            "text/plain": [
              "array([0, 1, 1, ..., 1, 0, 0])"
            ]
          },
          "execution_count": 50,
          "metadata": {
            "tags": []
          },
          "output_type": "execute_result"
        }
      ],
      "source": [
        "trainy=[]\n",
        "trainY=labels_training\n",
        "for i in range(len(trainY)):\n",
        "  if((trainY[i])==[1,0] ):\n",
        "    trainy.append(0)\n",
        "  elif((trainY[i]==[0,1])):\n",
        "    trainy.append(1)\n",
        "\n",
        "trainy=np.array(trainy)\n",
        "trainy"
      ]
    },
    {
      "cell_type": "code",
      "execution_count": null,
      "metadata": {
        "colab": {
          "base_uri": "https://localhost:8080/"
        },
        "id": "OBRWZOPaBNlj",
        "outputId": "cb7ca969-e9da-4b39-c4f2-20f316567000"
      },
      "outputs": [
        {
          "data": {
            "text/plain": [
              "array([1, 0, 0, 0, 0, 0, 1, 0, 1, 0, 0, 1, 0, 1, 0, 0, 1, 1, 1, 0, 1, 0,\n",
              "       0, 1, 1, 1, 1, 0, 0, 1, 0, 0, 1, 0, 0, 1, 0, 1, 0, 0, 1, 0, 0, 0,\n",
              "       1, 1, 1, 0, 1, 0, 1, 0, 0, 0, 0, 1, 1, 0, 0, 1, 0, 0, 0, 0, 0, 1,\n",
              "       0, 1, 1, 1, 1, 1, 1, 1, 0, 0, 1, 0, 0, 0, 1, 1, 1, 1, 0, 0, 0, 0,\n",
              "       1, 0, 1, 1, 1, 1, 0, 0, 0, 1, 1, 0, 1, 0, 1, 0, 0, 1, 0, 0, 0, 0,\n",
              "       0, 1, 0, 0, 0, 1, 1, 0, 0, 0, 0, 0, 0, 1, 1, 0, 1, 0, 1, 1, 1, 0,\n",
              "       1, 1, 1, 1, 1, 1, 0, 0, 1, 1, 1, 0, 0, 1, 0, 1, 0, 1])"
            ]
          },
          "execution_count": 51,
          "metadata": {
            "tags": []
          },
          "output_type": "execute_result"
        }
      ],
      "source": [
        "testy=[]\n",
        "testY=labels_test\n",
        "for i in range(len(testY)):\n",
        "  if((testY[i])==[1,0] ):\n",
        "    testy.append(0)\n",
        "  elif((testY[i]==[0,1])):\n",
        "    testy.append(1)\n",
        "\n",
        "testy=np.array(testy)\n",
        "testy"
      ]
    },
    {
      "cell_type": "code",
      "execution_count": null,
      "metadata": {
        "id": "kbpqs3L69yQI"
      },
      "outputs": [],
      "source": [
        "# trainX-names_training\n",
        "# trainy-labels_training\n",
        "\n",
        "# testX-names_test\n",
        "# testy-labels_test\n",
        "\n",
        "\n",
        "# trainX-data\n",
        "# trainy-target\n",
        "\n",
        "# testX-data_test\n",
        "# testy-target_test"
      ]
    },
    {
      "cell_type": "code",
      "execution_count": null,
      "metadata": {
        "colab": {
          "base_uri": "https://localhost:8080/"
        },
        "id": "aGQiD3OZ_Seh",
        "outputId": "1aa3e390-fc11-46d2-f5f9-7b6b9ac87ce4"
      },
      "outputs": [
        {
          "name": "stderr",
          "output_type": "stream",
          "text": [
            "/usr/local/lib/python3.7/dist-packages/keras/engine/sequential.py:450: UserWarning: `model.predict_classes()` is deprecated and will be removed after 2021-01-01. Please use instead:* `np.argmax(model.predict(x), axis=-1)`,   if your model does multi-class classification   (e.g. if it uses a `softmax` last-layer activation).* `(model.predict(x) > 0.5).astype(\"int32\")`,   if your model does binary classification   (e.g. if it uses a `sigmoid` last-layer activation).\n",
            "  warnings.warn('`model.predict_classes()` is deprecated and '\n"
          ]
        }
      ],
      "source": [
        "# demonstration of calculating metrics for a neural network model using sklearn\n",
        "from sklearn.datasets import make_circles\n",
        "from sklearn.metrics import accuracy_score\n",
        "from sklearn.metrics import precision_score\n",
        "from sklearn.metrics import recall_score\n",
        "from sklearn.metrics import f1_score\n",
        "from sklearn.metrics import cohen_kappa_score\n",
        "from sklearn.metrics import roc_auc_score\n",
        "from sklearn.metrics import confusion_matrix\n",
        "\n",
        "# predict probabilities for test set\n",
        "yhat_probs = model.predict(np.array(data_test), verbose=0)\n",
        "# predict crisp classes for test set\n",
        "yhat_classes = model.predict_classes(np.array(data_test), verbose=0)\n",
        "# # reduce to 1d array\n",
        "# yhat_probs = yhat_probs[:, 0]\n",
        "# yhat_classes = yhat_classes[:, 0]\n",
        "\n"
      ]
    },
    {
      "cell_type": "code",
      "execution_count": null,
      "metadata": {
        "colab": {
          "base_uri": "https://localhost:8080/"
        },
        "id": "wZk-MbXQR9AC",
        "outputId": "4363db93-f084-4b3e-c3ef-f7e6727d0fef"
      },
      "outputs": [
        {
          "name": "stdout",
          "output_type": "stream",
          "text": [
            "Accuracy: 0.866667\n",
            "Precision: 0.878788\n",
            "Recall: 0.828571\n",
            "F1 score: 0.852941\n"
          ]
        }
      ],
      "source": [
        "\n",
        "# accuracy: (tp + tn) / (p + n)\n",
        "accuracy = accuracy_score(testy, yhat_classes)\n",
        "print('Accuracy: %f' % accuracy)\n",
        "# precision tp / (tp + fp)\n",
        "precision = precision_score(testy, yhat_classes)\n",
        "print('Precision: %f' % precision)\n",
        "# recall: tp / (tp + fn)\n",
        "recall = recall_score(testy, yhat_classes)\n",
        "print('Recall: %f' % recall)\n",
        "# f1: 2 tp / (2 tp + fp + fn)\n",
        "f1 = f1_score(testy, yhat_classes)\n",
        "print('F1 score: %f' % f1)"
      ]
    },
    {
      "cell_type": "code",
      "execution_count": null,
      "metadata": {
        "colab": {
          "base_uri": "https://localhost:8080/"
        },
        "id": "PjQGctGJS0Fj",
        "outputId": "2e6532e7-c180-4170-fd52-08c5bb2c0944"
      },
      "outputs": [
        {
          "name": "stdout",
          "output_type": "stream",
          "text": [
            "Cohens kappa: 0.731183\n",
            "ROC AUC: 0.942500\n",
            "[[72  8]\n",
            " [12 58]]\n"
          ]
        }
      ],
      "source": [
        "# kappa\n",
        "kappa = cohen_kappa_score(testy, yhat_classes)\n",
        "print('Cohens kappa: %f' % kappa)\n",
        "# ROC AUC\n",
        "auc = roc_auc_score(target_test, yhat_probs)\n",
        "print('ROC AUC: %f' % auc)\n",
        "# confusion matrix\n",
        "matrix = confusion_matrix(testy, yhat_classes)\n",
        "print(matrix)"
      ]
    },
    {
      "cell_type": "code",
      "execution_count": null,
      "metadata": {
        "id": "p3NpSnwqUKxR"
      },
      "outputs": [],
      "source": [
        "# roc curve and auc\n",
        "from sklearn.datasets import make_classification\n",
        "from sklearn.linear_model import LogisticRegression\n",
        "from sklearn.model_selection import train_test_split\n",
        "from sklearn.metrics import roc_curve\n",
        "from sklearn.metrics import roc_auc_score\n",
        "from matplotlib import pyplot"
      ]
    },
    {
      "cell_type": "code",
      "execution_count": null,
      "metadata": {
        "colab": {
          "base_uri": "https://localhost:8080/",
          "height": 370
        },
        "id": "RZzgKh9eDPWt",
        "outputId": "4f2edceb-c0e5-46b7-a770-f1760a8d8ec3"
      },
      "outputs": [
        {
          "name": "stderr",
          "output_type": "stream",
          "text": [
            "/usr/local/lib/python3.7/dist-packages/keras/engine/sequential.py:425: UserWarning: `model.predict_proba()` is deprecated and will be removed after 2021-01-01. Please use `model.predict()` instead.\n",
            "  warnings.warn('`model.predict_proba()` is deprecated and '\n"
          ]
        },
        {
          "name": "stdout",
          "output_type": "stream",
          "text": [
            "No Skill: ROC AUC=0.500\n",
            "DenseNet201: ROC AUC=0.943\n"
          ]
        },
        {
          "data": {
            "image/png": "[encoded data removed]",
            "text/plain": [
              "<Figure size 432x288 with 1 Axes>"
            ]
          },
          "metadata": {
            "tags": []
          },
          "output_type": "display_data"
        }
      ],
      "source": [
        "ns_probs = [0 for _ in range(len(np.array(target_test)))]\n",
        "# # fit a model\n",
        "# model = LogisticRegression(solver='lbfgs')\n",
        "# model.fit(trainX, trainy)\n",
        "# predict probabilities\n",
        "lr_probs = model.predict_proba(np.array(data_test))\n",
        "# keep probabilities for the positive outcome only\n",
        "lr_probs = lr_probs[:, 1]\n",
        "# calculate scores\n",
        "ns_auc = roc_auc_score(testy, ns_probs)\n",
        "lr_auc = roc_auc_score(testy, lr_probs)\n",
        "# summarize scores\n",
        "print('No Skill: ROC AUC=%.3f' % (ns_auc))\n",
        "print('DenseNet201: ROC AUC=%.3f' % (lr_auc))\n",
        "# calculate roc curves\n",
        "ns_fpr, ns_tpr, _ = roc_curve(testy, ns_probs)\n",
        "lr_fpr, lr_tpr, _ = roc_curve(testy, lr_probs)\n",
        "# plot the roc curve for the model\n",
        "pyplot.plot(ns_fpr, ns_tpr, linestyle='--', label='Reference')\n",
        "pyplot.plot(lr_fpr, lr_tpr, marker='.', label='DenseNet201')\n",
        "# axis labels\n",
        "pyplot.xlabel('False Positive Rate')\n",
        "pyplot.ylabel('True Positive Rate')\n",
        "# show the legend\n",
        "pyplot.legend(loc='lower right')\n",
        "pyplot.savefig('ROC.jpg')\n",
        "# show the plot\n",
        "pyplot.show()"
      ]
    },
    {
      "cell_type": "markdown",
      "metadata": {
        "id": "UVA-2o-FQ7bN"
      },
      "source": [
        "**TESTING**"
      ]
    },
    {
      "cell_type": "code",
      "execution_count": null,
      "metadata": {
        "colab": {
          "base_uri": "https://localhost:8080/"
        },
        "id": "cRDVyx84Q58H",
        "outputId": "1359a652-26d6-4c51-ac35-d237412361e0"
      },
      "outputs": [],
      "source": [
        "in_dir_2 = 'testing-dataset-path'\n",
        "print (\"Done!\")\n",
        "print(in_dir_2)\n"
      ]
    },
    {
      "cell_type": "code",
      "execution_count": null,
      "metadata": {
        "colab": {
          "base_uri": "https://localhost:8080/"
        },
        "id": "pHMcGhxFeHg2",
        "outputId": "30ba16a0-0294-4cb3-c178-980a1505e0df"
      },
      "outputs": [
        {
          "name": "stdout",
          "output_type": "stream",
          "text": [
            "Done!\n"
          ]
        }
      ],
      "source": [
        "def video_names(in_dir_1):\n",
        "    \n",
        "    # list containing video names\n",
        "    names1 = []\n",
        "\n",
        "    for current_dir, dir_names,file_names in os.walk(in_dir_1):\n",
        "        \n",
        "        for file_name1 in file_names:\n",
        "          \n",
        "           names1.append(file_name1)\n",
        "\n",
        "           #shuffle(names1)\n",
        "                  \n",
        "    return tuple(names1)\n",
        "\n",
        "print (\"Done!\")"
      ]
    },
    {
      "cell_type": "code",
      "execution_count": null,
      "metadata": {
        "colab": {
          "base_uri": "https://localhost:8080/"
        },
        "id": "P0bfbaFYQ6IV",
        "outputId": "ce8c074b-cd8f-42c6-9383-bb8218f07027"
      },
      "outputs": [],
      "source": [
        "# Storing in names1\n",
        "names2 = video_names(in_dir_2)\n",
        "print (\"Done!\")\n",
        "count1=0\n",
        "count2=0\n",
        "print(names2)"
      ]
    },
    {
      "cell_type": "code",
      "execution_count": null,
      "metadata": {
        "colab": {
          "base_uri": "https://localhost:8080/"
        },
        "id": "6qj4UWyWRW7J",
        "outputId": "285a5687-019f-4780-ee84-5920aa2a89e8"
      },
      "outputs": [],
      "source": [
        "i=0\n",
        "\n",
        "t = []\n",
        "\n",
        "for i in range(100):\n",
        "  start = timeit.default_timer()\n",
        "  \n",
        "  videoplayback_no=names2[i]\n",
        "  \n",
        "  print(videoplayback_no)\n",
        "  #frames1 = get_frames(in_dir_1, videoplayback_no)\n",
        "  #visible_frame = (frames1*255).astype('uint8')\n",
        "  #plt.imshow(visible_frame[10])\n",
        "  video = get_transfer_values(in_dir_2, videoplayback_no)\n",
        "  \n",
        "  video = video.reshape((1, video.shape[0], video.shape[1]))\n",
        "  \n",
        "  label = np.argmax(model.predict(video))\n",
        "\n",
        "  if(label==1):\n",
        "    print('VIOLENCE NOT PRESENT')\n",
        "  else:\n",
        "    print('VIOLENCE PRESENT')\n",
        "\n",
        "  stop = timeit.default_timer()\n",
        "\n",
        "  print('Time: ', stop - start)  \n",
        "  \n",
        "  res = stop - start\n",
        "\n",
        "  t.append(res)\n",
        "\n",
        "  i=i+1"
      ]
    },
    {
      "cell_type": "code",
      "execution_count": null,
      "metadata": {
        "colab": {
          "base_uri": "https://localhost:8080/"
        },
        "id": "rLAqHWnaKDaA",
        "outputId": "6d6d8684-182f-4702-c6c7-3d446c5a7aff"
      },
      "outputs": [],
      "source": [
        "print(t)\n",
        "print(len(t))"
      ]
    },
    {
      "cell_type": "code",
      "execution_count": null,
      "metadata": {
        "colab": {
          "base_uri": "https://localhost:8080/"
        },
        "id": "AIDf_CnVKEX0",
        "outputId": "38c3661e-6045-4f64-e2de-b67052b55f9a"
      },
      "outputs": [
        {
          "name": "stdout",
          "output_type": "stream",
          "text": [
            "Average of the time = 0.91001\n"
          ]
        }
      ],
      "source": [
        "# Python program to get average of a list \n",
        "def Average(lst): \n",
        "    return sum(lst) / len(lst) \n",
        "  \n",
        "# Driver Code \n",
        "average = Average(t) \n",
        "  \n",
        "# Printing average of the list \n",
        "print(\"Average of the time =\", round(average, 5)) "
      ]
    },
    {
      "cell_type": "code",
      "execution_count": null,
      "metadata": {
        "colab": {
          "base_uri": "https://localhost:8080/"
        },
        "id": "-KJbWstrKKWF",
        "outputId": "2b30ef48-8a0b-403d-f672-55a5d50912d2"
      },
      "outputs": [
        {
          "name": "stdout",
          "output_type": "stream",
          "text": [
            "Standard deviation of sample is : 0.08968065606542916\n"
          ]
        }
      ],
      "source": [
        "import statistics \n",
        "  \n",
        "# initializing list \n",
        "  \n",
        "# printing list \n",
        "# print(\"The original list : \" + str(t)) \n",
        "  \n",
        "# Standard deviation of list \n",
        "# Using pstdev() \n",
        "sd = statistics.pstdev(t) \n",
        "  \n",
        "# Printing result \n",
        "print(\"Standard deviation of sample is : \" + str(sd)) "
      ]
    }
  ],
  "metadata": {
    "accelerator": "GPU",
    "colab": {
      "collapsed_sections": [],
      "name": "DENSENET201.ipynb",
      "provenance": []
    },
    "kernelspec": {
      "display_name": "Python 3",
      "name": "python3"
    }
  },
  "nbformat": 4,
  "nbformat_minor": 0
}
