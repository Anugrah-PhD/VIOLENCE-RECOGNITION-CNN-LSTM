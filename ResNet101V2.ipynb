{
  "cells": [
    {
      "cell_type": "code",
      "execution_count": null,
      "metadata": {
        "colab": {
          "base_uri": "https://localhost:8080/"
        },
        "id": "B2HqGzLQvgPe",
        "outputId": "2abd3e75-3daa-4975-9029-4504cf393278"
      },
      "outputs": [
        {
          "name": "stdout",
          "output_type": "stream",
          "text": [
            "Drive already mounted at /content/drive; to attempt to forcibly remount, call drive.mount(\"/content/drive\", force_remount=True).\n"
          ]
        }
      ],
      "source": [
        "from google.colab import drive\n",
        "drive.mount('/content/drive')"
      ]
    },
    {
      "cell_type": "code",
      "execution_count": null,
      "metadata": {
        "colab": {
          "base_uri": "https://localhost:8080/"
        },
        "id": "v8VWqpUNpX2o",
        "outputId": "7f6eab19-f295-4e25-b5da-c0ef9168beea"
      },
      "outputs": [
        {
          "name": "stdout",
          "output_type": "stream",
          "text": [
            "Done!\n"
          ]
        }
      ],
      "source": [
        "%matplotlib inline\n",
        "import cv2\n",
        "import os\n",
        "import numpy as np\n",
        "import keras\n",
        "import matplotlib.pyplot as plt\n",
        "from random import shuffle\n",
        "import tensorflow as tf\n",
        "import tensorflow \n",
        "from tensorflow import keras\n",
        "# from keras.applications.resnet import ResNet101V2\n",
        "from keras import backend as K\n",
        "from keras.models import Model, Sequential\n",
        "from keras.layers import Input\n",
        "from keras.layers import LSTM,GRU\n",
        "from keras.layers import Dense, Activation,Dropout,TimeDistributed,Bidirectional,AveragePooling1D,Flatten\n",
        "import sys\n",
        "import h5py\n",
        "import timeit\n",
        "\n",
        "print (\"Done!\")"
      ]
    },
    {
      "cell_type": "code",
      "execution_count": null,
      "metadata": {
        "colab": {
          "base_uri": "https://localhost:8080/",
          "height": 35
        },
        "id": "4OCEmR8DwKkI",
        "outputId": "b22e18df-51b6-42a9-fde2-680ff76e0545"
      },
      "outputs": [
        {
          "data": {
            "application/vnd.google.colaboratory.intrinsic+json": {
              "type": "string"
            },
            "text/plain": [
              "'2.5.0'"
            ]
          },
          "execution_count": 16,
          "metadata": {
            "tags": []
          },
          "output_type": "execute_result"
        }
      ],
      "source": [
        "keras.__version__"
      ]
    },
    {
      "cell_type": "markdown",
      "metadata": {
        "id": "jiuYtOyEp3nN"
      },
      "source": [
        "**Helper Functions**\n",
        "We will use the function print_progress to print the amount of videos processed"
      ]
    },
    {
      "cell_type": "code",
      "execution_count": null,
      "metadata": {
        "colab": {
          "base_uri": "https://localhost:8080/"
        },
        "id": "e8m5LDtUwZL6",
        "outputId": "cd02647d-6273-4368-d46f-66fdd6b67f05"
      },
      "outputs": [
        {
          "name": "stdout",
          "output_type": "stream",
          "text": [
            "Done!\n"
          ]
        }
      ],
      "source": [
        "def print_progress(count, max_count):\n",
        "    # Percentage completion.\n",
        "    pct_complete = count / max_count\n",
        "\n",
        "    # Status-message. Note the \\r which means the line should\n",
        "    # overwrite itself.\n",
        "    msg = \"\\r- Progress: {0:.1%}\".format(pct_complete)\n",
        "\n",
        "    # Print it.\n",
        "    sys.stdout.write(msg)\n",
        "    sys.stdout.flush()\n",
        "\n",
        "print (\"Done!\")"
      ]
    },
    {
      "cell_type": "markdown",
      "metadata": {
        "id": "z6WHsz2eqhSG"
      },
      "source": [
        "\n",
        "**Load Data**\n",
        "The directory to place the video dataset"
      ]
    },
    {
      "cell_type": "code",
      "execution_count": null,
      "metadata": {
        "colab": {
          "base_uri": "https://localhost:8080/"
        },
        "id": "I_EhI1Bgweza",
        "outputId": "bdcd3c26-9035-4bb8-a684-aa01d3ce95ba"
      },
      "outputs": [],
      "source": [
        "in_dir = \"data\"\n",
        "\n",
        "in_dir = 'dataset-path'\n",
        "\n",
        "print (\"Done!\")\n",
        "\n",
        "print(in_dir)"
      ]
    },
    {
      "cell_type": "markdown",
      "metadata": {
        "id": "UxUdddJRsgnH"
      },
      "source": [
        "**Data-Dimensions**"
      ]
    },
    {
      "cell_type": "code",
      "execution_count": null,
      "metadata": {
        "colab": {
          "base_uri": "https://localhost:8080/"
        },
        "id": "e78PwQdqwkup",
        "outputId": "c29111e3-7cfa-4b2f-c468-e5a30c94bb9e"
      },
      "outputs": [
        {
          "name": "stdout",
          "output_type": "stream",
          "text": [
            "Done!\n"
          ]
        }
      ],
      "source": [
        "# Frame size  \n",
        "img_size = 224\n",
        "\n",
        "img_size_touple = (img_size, img_size)\n",
        "\n",
        "# Number of channels (RGB)\n",
        "num_channels = 3\n",
        "\n",
        "# Flat frame size\n",
        "img_size_flat = img_size * img_size * num_channels\n",
        "\n",
        "# Number of classes for classification (Violence-No Violence)\n",
        "num_classes = 2\n",
        "\n",
        "# Number of files to train\n",
        "_num_files_train = 1\n",
        "\n",
        "# Number of frames per video\n",
        "_images_per_file = 20\n",
        "\n",
        "# Number of frames per training set\n",
        "_num_images_train = _num_files_train * _images_per_file\n",
        "\n",
        "# Video extension\n",
        "video_exts = \".mp4\"\n",
        "\n",
        "print (\"Done!\")"
      ]
    },
    {
      "cell_type": "markdown",
      "metadata": {
        "id": "6cUpXo6DtSzO"
      },
      "source": [
        "\n",
        "**Helper-function for getting video frames**\n"
      ]
    },
    {
      "cell_type": "markdown",
      "metadata": {
        "id": "Qxo03zoFLtm8"
      },
      "source": [
        "USED IN get_transfer_value"
      ]
    },
    {
      "cell_type": "code",
      "execution_count": null,
      "metadata": {
        "colab": {
          "base_uri": "https://localhost:8080/"
        },
        "id": "BSbp72J7wk8G",
        "outputId": "035acac3-9f96-4627-8294-7a77e3b9199a"
      },
      "outputs": [
        {
          "name": "stdout",
          "output_type": "stream",
          "text": [
            "Done!\n"
          ]
        }
      ],
      "source": [
        "def get_frames(current_dir, file_name):\n",
        "    \n",
        "    in_file = os.path.join(current_dir, file_name)\n",
        "    \n",
        "    images = []\n",
        "    \n",
        "    vidcap = cv2.VideoCapture(in_file)\n",
        "    \n",
        "    success,image = vidcap.read()\n",
        "        \n",
        "    count = 0\n",
        "\n",
        "    while count<_images_per_file:\n",
        "                \n",
        "        RGB_img = cv2.cvtColor(image, cv2.COLOR_BGR2RGB)\n",
        "    \n",
        "        res = cv2.resize(RGB_img, dsize=(img_size, img_size),\n",
        "                                 interpolation=cv2.INTER_CUBIC)\n",
        "    \n",
        "        images.append(res)\n",
        "\n",
        "        image2=cv2.flip(image,1)\n",
        "\n",
        "        RGB_img = cv2.cvtColor(image2, cv2.COLOR_BGR2RGB)\n",
        "    \n",
        "        res2 = cv2.resize(RGB_img, dsize=(img_size, img_size),\n",
        "                                 interpolation=cv2.INTER_CUBIC)\n",
        "    \n",
        "        images.append(res2)\n",
        "    \n",
        "        success,image = vidcap.read()\n",
        "    \n",
        "        count += 1\n",
        "        \n",
        "    resul = np.array(images)\n",
        "    \n",
        "    resul = (resul / 255.).astype(np.float16)\n",
        "        \n",
        "    return resul\n",
        "\n",
        "print (\"Done!\")"
      ]
    },
    {
      "cell_type": "markdown",
      "metadata": {
        "id": "EzyBfyddxae9"
      },
      "source": [
        "**Helper function to get the names of the data downloaded and label it**"
      ]
    },
    {
      "cell_type": "code",
      "execution_count": null,
      "metadata": {
        "colab": {
          "base_uri": "https://localhost:8080/"
        },
        "id": "PMEuFNQwyW3B",
        "outputId": "9f00ae9b-1e53-44d4-d84e-46f9c6851bc1"
      },
      "outputs": [
        {
          "name": "stdout",
          "output_type": "stream",
          "text": [
            "Done!\n"
          ]
        }
      ],
      "source": [
        "def label_video_names(in_dir):\n",
        "    \n",
        "    # list containing video names\n",
        "    names = []\n",
        "    # list containin video labels [1, 0] if it has violence and [0, 1] if not\n",
        "    labels = []   \n",
        "   \n",
        "    for current_dir, dir_names,file_names in os.walk(in_dir):\n",
        "        \n",
        "        for file_name in file_names:\n",
        "            \n",
        "            if file_name[0:1] == 'V':\n",
        "                labels.append([1,0])\n",
        "                names.append(file_name)\n",
        "            elif file_name[0:2] == 'NV':\n",
        "                labels.append([0,1])\n",
        "                names.append(file_name)\n",
        "                     \n",
        "    #Dictionary       \n",
        "    c = list(zip(names,labels))\n",
        "    # Suffle the data (names and labels)\n",
        "    shuffle(c)\n",
        "    \n",
        "    names, labels = zip(*c)\n",
        "            \n",
        "    return names, labels\n",
        "\n",
        "print (\"Done!\")"
      ]
    },
    {
      "cell_type": "markdown",
      "metadata": {
        "id": "vpzJzt53z1RN"
      },
      "source": [
        "**Plot a video frame to see if data is correct**"
      ]
    },
    {
      "cell_type": "code",
      "execution_count": null,
      "metadata": {
        "colab": {
          "base_uri": "https://localhost:8080/"
        },
        "id": "GBMZCRYlyW7O",
        "outputId": "299c5460-231b-4e5f-fd92-eecdf6f61b86"
      },
      "outputs": [
        {
          "name": "stdout",
          "output_type": "stream",
          "text": [
            "Done!\n"
          ]
        }
      ],
      "source": [
        "# First get the names and labels of the whole videos\n",
        "names, labels = label_video_names(in_dir)\n",
        "\n",
        "print (\"Done!\")"
      ]
    },
    {
      "cell_type": "markdown",
      "metadata": {
        "id": "_8iimcPrzjrt"
      },
      "source": [
        "**NOT-IMPORTANT**"
      ]
    },
    {
      "cell_type": "code",
      "execution_count": null,
      "metadata": {
        "cellView": "both",
        "colab": {
          "base_uri": "https://localhost:8080/"
        },
        "id": "iuSstAi1yW80",
        "outputId": "f0912e2e-69e8-4427-d9a1-002b2c67b6c0"
      },
      "outputs": [],
      "source": [
        "print(labels)\n",
        "print(names)\n",
        "print(len(names))"
      ]
    },
    {
      "cell_type": "markdown",
      "metadata": {
        "id": "Y_zicQ_E0H8g"
      },
      "source": [
        "Then we are going to load 20 frames of one video, for example.\n",
        "The video has violence, look at the name of the video, starts with 'V'"
      ]
    },
    {
      "cell_type": "code",
      "execution_count": null,
      "metadata": {
        "colab": {
          "base_uri": "https://localhost:8080/",
          "height": 35
        },
        "id": "CUaM2BRuyW1p",
        "outputId": "a2ec1760-22c6-4a16-8c7b-933c0f05dc5c"
      },
      "outputs": [
        {
          "data": {
            "application/vnd.google.colaboratory.intrinsic+json": {
              "type": "string"
            },
            "text/plain": [
              "'V_ (1640).mp4'"
            ]
          },
          "execution_count": 24,
          "metadata": {
            "tags": []
          },
          "output_type": "execute_result"
        }
      ],
      "source": [
        "\n",
        "names[12]"
      ]
    },
    {
      "cell_type": "code",
      "execution_count": null,
      "metadata": {
        "colab": {
          "base_uri": "https://localhost:8080/"
        },
        "id": "bHOxUhGCWYg3",
        "outputId": "a9ae029c-c4d3-4405-b755-43ce993d047b"
      },
      "outputs": [
        {
          "data": {
            "text/plain": [
              "(40, 224, 224, 3)"
            ]
          },
          "execution_count": 25,
          "metadata": {
            "tags": []
          },
          "output_type": "execute_result"
        }
      ],
      "source": [
        "frames = get_frames(in_dir, names[12])\n",
        "frames.shape"
      ]
    },
    {
      "cell_type": "markdown",
      "metadata": {
        "id": "MCbvyFkO0WEJ"
      },
      "source": [
        "\n",
        "Convert back the frames to uint8 pixel format to plot the frame"
      ]
    },
    {
      "cell_type": "code",
      "execution_count": null,
      "metadata": {
        "id": "F5mf1gV1WYoV"
      },
      "outputs": [],
      "source": [
        "\n",
        "visible_frame = (frames*255).astype('uint8')"
      ]
    },
    {
      "cell_type": "code",
      "execution_count": null,
      "metadata": {
        "colab": {
          "base_uri": "https://localhost:8080/",
          "height": 286
        },
        "id": "M4ODWYLcWYti",
        "outputId": "df8e7648-bdba-4a04-c78b-7dfae1955147"
      },
      "outputs": [
        {
          "data": {
            "text/plain": [
              "<matplotlib.image.AxesImage at 0x7fdf2004e090>"
            ]
          },
          "execution_count": 27,
          "metadata": {
            "tags": []
          },
          "output_type": "execute_result"
        },
        {
          "data": {
            "image/png": "[encoded data removed]",
            "text/plain": [
              "<Figure size 432x288 with 1 Axes>"
            ]
          },
          "metadata": {
            "needs_background": "light",
            "tags": []
          },
          "output_type": "display_data"
        }
      ],
      "source": [
        "plt.imshow(visible_frame[3])"
      ]
    },
    {
      "cell_type": "code",
      "execution_count": null,
      "metadata": {
        "colab": {
          "base_uri": "https://localhost:8080/",
          "height": 286
        },
        "id": "WyiEhj6kWY1s",
        "outputId": "7fa96de3-7e2d-4e90-eb30-f89f591206e5"
      },
      "outputs": [
        {
          "data": {
            "text/plain": [
              "<matplotlib.image.AxesImage at 0x7fdf106d7310>"
            ]
          },
          "execution_count": 28,
          "metadata": {
            "tags": []
          },
          "output_type": "execute_result"
        },
        {
          "data": {
            "image/png": "[encoded data removed]",
            "text/plain": [
              "<Figure size 432x288 with 1 Axes>"
            ]
          },
          "metadata": {
            "needs_background": "light",
            "tags": []
          },
          "output_type": "display_data"
        }
      ],
      "source": [
        "plt.imshow(visible_frame[15])"
      ]
    },
    {
      "cell_type": "markdown",
      "metadata": {
        "id": "dasb456n1JtA"
      },
      "source": [
        "**Pre-Trained Model: RESNET101**"
      ]
    },
    {
      "cell_type": "code",
      "execution_count": null,
      "metadata": {
        "id": "8JU-KXdgWYsj"
      },
      "outputs": [],
      "source": [
        "# image_model = ResNet101V2(include_top=True, weights='imagenet')\n",
        "\n",
        "image_model = tf.keras.applications.ResNet101V2(\n",
        "    include_top=True,\n",
        "    weights=\"imagenet\"\n",
        ")"
      ]
    },
    {
      "cell_type": "markdown",
      "metadata": {
        "id": "j5JoZb631n9g"
      },
      "source": [
        "**The model summary**"
      ]
    },
    {
      "cell_type": "code",
      "execution_count": null,
      "metadata": {
        "colab": {
          "base_uri": "https://localhost:8080/"
        },
        "id": "vAS1qTYGWYnN",
        "outputId": "12b27f48-24a1-4930-ebaa-070ec1b63c2d"
      },
      "outputs": [],
      "source": [
        "image_model.summary()"
      ]
    },
    {
      "cell_type": "code",
      "execution_count": null,
      "metadata": {
        "colab": {
          "base_uri": "https://localhost:8080/"
        },
        "id": "2-iPePNGWYfY",
        "outputId": "327eab8c-38cc-40fc-c358-3782634ccfd0"
      },
      "outputs": [
        {
          "data": {
            "text/plain": [
              "[]"
            ]
          },
          "execution_count": 31,
          "metadata": {
            "tags": []
          },
          "output_type": "execute_result"
        }
      ],
      "source": [
        "\n",
        "input_shape = image_model.layers[0].output_shape[1:3]\n",
        "input_shape"
      ]
    },
    {
      "cell_type": "markdown",
      "metadata": {
        "id": "SfQuSv88ExP9"
      },
      "source": [
        "**RESNET101 model flowchart**"
      ]
    },
    {
      "cell_type": "code",
      "execution_count": null,
      "metadata": {
        "colab": {
          "base_uri": "https://localhost:8080/"
        },
        "id": "5hFqBL2DYNfb",
        "outputId": "041b79db-7af7-44ec-b76f-fb0d7b3dc8b0"
      },
      "outputs": [
        {
          "name": "stdout",
          "output_type": "stream",
          "text": [
            "The input of the RESNET101 net have dimensions: (224, 224)\n",
            "The output of the selecter layer of RESNET101 net have dimensions:  2048\n"
          ]
        }
      ],
      "source": [
        "# We will use the output of the layer prior to the final\n",
        "# classification-layer which is named probs. This is a fully-connected (or dense) layer.\n",
        "transfer_layer = image_model.get_layer('avg_pool')\n",
        "\n",
        "image_model_transfer = Model(inputs=image_model.input,\n",
        "                             outputs=transfer_layer.output)\n",
        "\n",
        "transfer_values_size = K.int_shape(transfer_layer.output)[1]\n",
        "\n",
        "\n",
        "print(\"The input of the RESNET101 net have dimensions:\",K.int_shape(image_model.input)[1:3])\n",
        "\n",
        "print(\"The output of the selecter layer of RESNET101 net have dimensions: \", transfer_values_size)"
      ]
    },
    {
      "cell_type": "markdown",
      "metadata": {
        "id": "B7AqrwRdKtGO"
      },
      "source": [
        "**Function to process 20 video frames through RESNET101 and get transfer value**"
      ]
    },
    {
      "cell_type": "code",
      "execution_count": null,
      "metadata": {
        "id": "qVUAmKDiYNsA"
      },
      "outputs": [],
      "source": [
        "def get_transfer_values(current_dir, file_name):\n",
        "    \n",
        "    # Pre-allocate input-batch-array for images.\n",
        "    shape = (40,) + img_size_touple + (3,)\n",
        "    \n",
        "    image_batch = np.zeros(shape=shape, dtype=np.float16)\n",
        "    \n",
        "    image_batch = get_frames(current_dir, file_name)\n",
        "      \n",
        "    # Pre-allocate output-array for transfer-values.\n",
        "    # Note that we use 16-bit floating-points to save memory.\n",
        "    shape = (40, transfer_values_size)\n",
        "    transfer_values = np.zeros(shape=shape, dtype=np.float16)\n",
        "\n",
        "    transfer_values = \\\n",
        "            image_model_transfer.predict(image_batch)\n",
        "            \n",
        "    return transfer_values"
      ]
    },
    {
      "cell_type": "markdown",
      "metadata": {
        "id": "C2L4Ck2vMQi3"
      },
      "source": [
        "\n",
        "**Generator that process one video through RESNET101 each function call**"
      ]
    },
    {
      "cell_type": "markdown",
      "metadata": {
        "id": "8md91AXNRT_M"
      },
      "source": [
        "USED in make_files and make_files_test"
      ]
    },
    {
      "cell_type": "code",
      "execution_count": null,
      "metadata": {
        "id": "ioV30SQoYN0S"
      },
      "outputs": [],
      "source": [
        "def proces_transfer(vid_names, in_dir, labels):\n",
        "    \n",
        "    count = 0\n",
        "    \n",
        "    tam = len(vid_names)\n",
        "    \n",
        "    # Pre-allocate input-batch-array for images.\n",
        "    shape = (40,) + img_size_touple + (3,)\n",
        "    \n",
        "    while count<tam:\n",
        "        \n",
        "        video_name = vid_names[count]\n",
        "        \n",
        "        image_batch = np.zeros(shape=shape, dtype=np.float16)\n",
        "    \n",
        "        image_batch = get_frames(in_dir, video_name)\n",
        "        \n",
        "         # Note that we use 16-bit floating-points to save memory.\n",
        "        shape = (40, transfer_values_size)\n",
        "        transfer_values = np.zeros(shape=shape, dtype=np.float16)\n",
        "        \n",
        "        transfer_values = \\\n",
        "            image_model_transfer.predict(image_batch)\n",
        "         \n",
        "        labels1 = labels[count]\n",
        "        \n",
        "        aux = np.ones([40,2])\n",
        "        \n",
        "        labelss = labels1*aux\n",
        "        \n",
        "        yield transfer_values, labelss\n",
        "        \n",
        "        count+=1"
      ]
    },
    {
      "cell_type": "markdown",
      "metadata": {
        "id": "DveptGDwyOzC"
      },
      "source": [
        "**Functions to save transfer values from RESNET101 to later use**"
      ]
    },
    {
      "cell_type": "code",
      "execution_count": null,
      "metadata": {
        "id": "WqlD_F62YNyx"
      },
      "outputs": [],
      "source": [
        "def make_files(n_files):\n",
        "    \n",
        "    gen = proces_transfer(names_training, in_dir, labels_training)\n",
        "\n",
        "    numer = 1\n",
        "\n",
        "    # Read the first chunk to get the column dtypes\n",
        "    chunk = next(gen)\n",
        "\n",
        "    row_count = chunk[0].shape[0]\n",
        "    row_count2 = chunk[1].shape[0]\n",
        "    \n",
        "    with h5py.File('prueba.h5', 'w') as f:\n",
        "    \n",
        "        # Initialize a resizable dataset to hold the output\n",
        "        maxshape = (None,) + chunk[0].shape[1:]\n",
        "        maxshape2 = (None,) + chunk[1].shape[1:]\n",
        "    \n",
        "    \n",
        "        dset = f.create_dataset('data', shape=chunk[0].shape, maxshape=maxshape,\n",
        "                                chunks=chunk[0].shape, dtype=chunk[0].dtype)\n",
        "    \n",
        "        dset2 = f.create_dataset('labels', shape=chunk[1].shape, maxshape=maxshape2,\n",
        "                                 chunks=chunk[1].shape, dtype=chunk[1].dtype)\n",
        "    \n",
        "         # Write the first chunk of rows\n",
        "        dset[:] = chunk[0]\n",
        "        dset2[:] = chunk[1]\n",
        "\n",
        "        for chunk in gen:\n",
        "            \n",
        "            if numer == n_files:\n",
        "            \n",
        "                break\n",
        "\n",
        "            # Resize the dataset to accommodate the next chunk of rows\n",
        "            dset.resize(row_count + chunk[0].shape[0], axis=0)\n",
        "            dset2.resize(row_count2 + chunk[1].shape[0], axis=0)\n",
        "\n",
        "             # Write the next chunk\n",
        "            dset[row_count:] = chunk[0]\n",
        "            dset2[row_count:] = chunk[1]\n",
        "\n",
        "            # Increment the row count\n",
        "            row_count += chunk[0].shape[0]\n",
        "            row_count2 += chunk[1].shape[0]\n",
        "            \n",
        "            print_progress(numer, n_files)\n",
        "        \n",
        "            numer += 1"
      ]
    },
    {
      "cell_type": "code",
      "execution_count": null,
      "metadata": {
        "id": "5pydsI2KY_iz"
      },
      "outputs": [],
      "source": [
        "def make_files_test(n_files):\n",
        "    \n",
        "    gen = proces_transfer(names_test, in_dir_2, labels_test)\n",
        "\n",
        "    numer = 1\n",
        "\n",
        "    # Read the first chunk to get the column dtypes\n",
        "    chunk = next(gen)\n",
        "\n",
        "    row_count = chunk[0].shape[0]\n",
        "    row_count2 = chunk[1].shape[0]\n",
        "    \n",
        "    with h5py.File('pruebavalidation.h5', 'w') as f:\n",
        "    \n",
        "        # Initialize a resizable dataset to hold the output\n",
        "        maxshape = (None,) + chunk[0].shape[1:]\n",
        "        maxshape2 = (None,) + chunk[1].shape[1:]\n",
        "    \n",
        "    \n",
        "        dset = f.create_dataset('data', shape=chunk[0].shape, maxshape=maxshape,\n",
        "                                chunks=chunk[0].shape, dtype=chunk[0].dtype)\n",
        "    \n",
        "        dset2 = f.create_dataset('labels', shape=chunk[1].shape, maxshape=maxshape2,\n",
        "                                 chunks=chunk[1].shape, dtype=chunk[1].dtype)\n",
        "    \n",
        "         # Write the first chunk of rows\n",
        "        dset[:] = chunk[0]\n",
        "        dset2[:] = chunk[1]\n",
        "\n",
        "        for chunk in gen:\n",
        "            \n",
        "            if numer == n_files:\n",
        "            \n",
        "                break\n",
        "\n",
        "            # Resize the dataset to accommodate the next chunk of rows\n",
        "            dset.resize(row_count + chunk[0].shape[0], axis=0)\n",
        "            dset2.resize(row_count2 + chunk[1].shape[0], axis=0)\n",
        "\n",
        "            # Write the next chunk\n",
        "            dset[row_count:] = chunk[0]\n",
        "            dset2[row_count:] = chunk[1]\n",
        "\n",
        "            # Increment the row count\n",
        "            row_count += chunk[0].shape[0]\n",
        "            row_count2 += chunk[1].shape[0]\n",
        "            \n",
        "            print_progress(numer, n_files)\n",
        "        \n",
        "            numer += 1"
      ]
    },
    {
      "cell_type": "markdown",
      "metadata": {
        "id": "qDpx6JmuPSSf"
      },
      "source": [
        "**Split the dataset into training set and test set**"
      ]
    },
    {
      "cell_type": "markdown",
      "metadata": {
        "id": "KB5xrkBoRE5u"
      },
      "source": [
        "The training set is used to train the model and the test set to check the model accuracy."
      ]
    },
    {
      "cell_type": "code",
      "execution_count": null,
      "metadata": {
        "colab": {
          "base_uri": "https://localhost:8080/"
        },
        "id": "gCJaQDq1sJ59",
        "outputId": "dbaf5c1c-aae2-430d-ab33-d329301acf00"
      },
      "outputs": [],
      "source": [
        "in_dir_2 = 'testing-dataset-path'\n",
        "print(in_dir_2)\n",
        "names2, labels2 = label_video_names(in_dir_2)\n",
        "#names2 = video_names(in_dir_2)\n",
        "print (\"Done!\")"
      ]
    },
    {
      "cell_type": "code",
      "execution_count": null,
      "metadata": {
        "id": "0JQ6nGVsCbep"
      },
      "outputs": [],
      "source": [
        "training_set = int(len(names))\n",
        "test_set = int(len(names2))\n",
        "\n",
        "names_training = names[0:training_set]\n",
        "names_test = names2[0:test_set]\n",
        "\n",
        "labels_training = labels[0:training_set]\n",
        "labels_test = labels2[0:test_set]"
      ]
    },
    {
      "cell_type": "markdown",
      "metadata": {
        "id": "4hVXSs5R1Zen"
      },
      "source": [
        "**Processing all video frames through RESNET101 and saving the transfer values in disk**"
      ]
    },
    {
      "cell_type": "code",
      "execution_count": null,
      "metadata": {
        "colab": {
          "base_uri": "https://localhost:8080/"
        },
        "id": "pvfSGuqeY_xh",
        "outputId": "c5fcb63b-f682-45c5-da65-bfd24ddc611a"
      },
      "outputs": [
        {
          "name": "stdout",
          "output_type": "stream",
          "text": [
            "- Progress: 100.0%Time TV:  2942.109604802\n"
          ]
        }
      ],
      "source": [
        "start_TV = timeit.default_timer()\n",
        "\n",
        "make_files(training_set)\n",
        "\n",
        "stop_TV = timeit.default_timer()\n",
        "\n",
        "print('Time TV: ', stop_TV - start_TV)  "
      ]
    },
    {
      "cell_type": "code",
      "execution_count": null,
      "metadata": {
        "colab": {
          "base_uri": "https://localhost:8080/"
        },
        "id": "9ry7MecRY_wd",
        "outputId": "50c0fd76-40a6-4b70-c8fb-f87df4b76870"
      },
      "outputs": [
        {
          "name": "stdout",
          "output_type": "stream",
          "text": [
            "- Progress: 99.3%"
          ]
        }
      ],
      "source": [
        "make_files_test(test_set)"
      ]
    },
    {
      "cell_type": "markdown",
      "metadata": {
        "id": "t_8iHSEh1Gd8"
      },
      "source": [
        "**Load the cached transfer values into memory**"
      ]
    },
    {
      "cell_type": "markdown",
      "metadata": {
        "id": "h7dfCZXr1GGV"
      },
      "source": [
        "Saved all the videos transfer values into disk. But we have to load those transfer values into memory in order to train the LSTM net.Training the LSTM in different ways in order to see which way gets the best accuracy, if you didn't save the transfer values into disk you would have to process the whole videos each training. It's very time consuming processing the videos through ResNet101.\n",
        "\n",
        "In order to load the saved transfer values into RAM memory we are going to use this two functions:"
      ]
    },
    {
      "cell_type": "code",
      "execution_count": null,
      "metadata": {
        "id": "Wn8szJJwZuVU"
      },
      "outputs": [],
      "source": [
        "\n",
        "def process_alldata_training():\n",
        "    \n",
        "    joint_transfer=[]\n",
        "    frames_num=40\n",
        "    count = 0\n",
        "    \n",
        "    with h5py.File('prueba.h5', 'r') as f:\n",
        "            \n",
        "        X_batch = f['data'][:]\n",
        "        y_batch = f['labels'][:]\n",
        "\n",
        "    for i in range(int(len(X_batch)/frames_num)):\n",
        "        inc = count+frames_num\n",
        "        joint_transfer.append([X_batch[count:inc],y_batch[count]])\n",
        "        count =inc\n",
        "        \n",
        "    data =[]\n",
        "    target=[]\n",
        "    \n",
        "    for i in joint_transfer:\n",
        "        data.append(i[0])\n",
        "        target.append(np.array(i[1]))\n",
        "        \n",
        "    return data, target"
      ]
    },
    {
      "cell_type": "code",
      "execution_count": null,
      "metadata": {
        "id": "pwx-uY2_Zubm"
      },
      "outputs": [],
      "source": [
        "\n",
        "def process_alldata_test():\n",
        "    \n",
        "    joint_transfer=[]\n",
        "    frames_num=40\n",
        "    count = 0\n",
        "    \n",
        "    with h5py.File('pruebavalidation.h5', 'r') as f:\n",
        "            \n",
        "        X_batch = f['data'][:]\n",
        "        y_batch = f['labels'][:]\n",
        "\n",
        "    for i in range(int(len(X_batch)/frames_num)):\n",
        "        inc = count+frames_num\n",
        "        joint_transfer.append([X_batch[count:inc],y_batch[count]])\n",
        "        count =inc\n",
        "        \n",
        "    data =[]\n",
        "    target=[]\n",
        "    \n",
        "    for i in joint_transfer:\n",
        "        data.append(i[0])\n",
        "        target.append(np.array(i[1]))\n",
        "        \n",
        "    return data, target"
      ]
    },
    {
      "cell_type": "code",
      "execution_count": null,
      "metadata": {
        "id": "1LPvcxOwZuaH"
      },
      "outputs": [],
      "source": [
        "data, target = process_alldata_training()\n"
      ]
    },
    {
      "cell_type": "code",
      "execution_count": null,
      "metadata": {
        "id": "IqnSNC56ZuTZ"
      },
      "outputs": [],
      "source": [
        "data_test, target_test = process_alldata_test()"
      ]
    },
    {
      "cell_type": "markdown",
      "metadata": {
        "id": "0gANVaFeVj98"
      },
      "source": [
        "\n",
        "**Recurrent Neural Network** "
      ]
    },
    {
      "cell_type": "markdown",
      "metadata": {
        "id": "yg2s9Ck6WSXF"
      },
      "source": [
        "**Define LSTM architecture**"
      ]
    },
    {
      "cell_type": "code",
      "execution_count": null,
      "metadata": {
        "colab": {
          "base_uri": "https://localhost:8080/"
        },
        "id": "kON5W3OjmvFU",
        "outputId": "558312ca-9aab-41e7-c6c8-93cb3f9563f6"
      },
      "outputs": [
        {
          "name": "stdout",
          "output_type": "stream",
          "text": [
            "Model: \"sequential\"\n",
            "_________________________________________________________________\n",
            "Layer (type)                 Output Shape              Param #   \n",
            "=================================================================\n",
            "lstm (LSTM)                  (None, 512)               5244928   \n",
            "_________________________________________________________________\n",
            "dense (Dense)                (None, 1024)              525312    \n",
            "_________________________________________________________________\n",
            "activation (Activation)      (None, 1024)              0         \n",
            "_________________________________________________________________\n",
            "dense_1 (Dense)              (None, 50)                51250     \n",
            "_________________________________________________________________\n",
            "activation_1 (Activation)    (None, 50)                0         \n",
            "_________________________________________________________________\n",
            "dense_2 (Dense)              (None, 2)                 102       \n",
            "_________________________________________________________________\n",
            "activation_2 (Activation)    (None, 2)                 0         \n",
            "=================================================================\n",
            "Total params: 5,821,592\n",
            "Trainable params: 5,821,592\n",
            "Non-trainable params: 0\n",
            "_________________________________________________________________\n",
            "None\n"
          ]
        }
      ],
      "source": [
        "start_LSTM = timeit.default_timer()\n",
        "\n",
        "from keras.optimizers import SGD,RMSprop\n",
        "chunk_size = 2048\n",
        "n_chunks = 40\n",
        "rnn_size = 512\n",
        "\n",
        "model = Sequential()\n",
        "model.add(LSTM(rnn_size, input_shape=(n_chunks, chunk_size)))\n",
        "model.add(Dense(1024))\n",
        "model.add(Activation('relu'))\n",
        "model.add(Dense(50))\n",
        "model.add(Activation('sigmoid'))\n",
        "model.add(Dense(2))\n",
        "model.add(Activation('softmax'))\n",
        "print(model.summary())\n",
        "\n",
        "model.compile(loss='mean_squared_error', optimizer='adam' ,metrics=['accuracy'])\n",
        "\n"
      ]
    },
    {
      "cell_type": "code",
      "execution_count": null,
      "metadata": {
        "colab": {
          "base_uri": "https://localhost:8080/"
        },
        "id": "pcz2uiulZ_hZ",
        "outputId": "9c1af1fc-9c58-4041-bcfc-15046fa0f99d"
      },
      "outputs": [
        {
          "name": "stdout",
          "output_type": "stream",
          "text": [
            "Epoch 1/100\n",
            "7/7 - 16s - loss: 0.1888 - accuracy: 0.6754 - val_loss: 0.1747 - val_accuracy: 0.7600\n",
            "Epoch 2/100\n",
            "7/7 - 2s - loss: 0.1012 - accuracy: 0.8626 - val_loss: 0.1598 - val_accuracy: 0.7800\n",
            "Epoch 3/100\n",
            "7/7 - 2s - loss: 0.0816 - accuracy: 0.8864 - val_loss: 0.1269 - val_accuracy: 0.8400\n",
            "Epoch 4/100\n",
            "7/7 - 2s - loss: 0.0651 - accuracy: 0.9142 - val_loss: 0.1215 - val_accuracy: 0.8600\n",
            "Epoch 5/100\n",
            "7/7 - 2s - loss: 0.0497 - accuracy: 0.9388 - val_loss: 0.1229 - val_accuracy: 0.8600\n",
            "Epoch 6/100\n",
            "7/7 - 2s - loss: 0.0409 - accuracy: 0.9499 - val_loss: 0.1227 - val_accuracy: 0.8400\n",
            "Epoch 7/100\n",
            "7/7 - 2s - loss: 0.0337 - accuracy: 0.9583 - val_loss: 0.1017 - val_accuracy: 0.8400\n",
            "Epoch 8/100\n",
            "7/7 - 2s - loss: 0.0270 - accuracy: 0.9667 - val_loss: 0.1442 - val_accuracy: 0.8000\n",
            "Epoch 9/100\n",
            "7/7 - 2s - loss: 0.0178 - accuracy: 0.9777 - val_loss: 0.1493 - val_accuracy: 0.8000\n",
            "Epoch 10/100\n",
            "7/7 - 2s - loss: 0.0142 - accuracy: 0.9852 - val_loss: 0.1509 - val_accuracy: 0.8200\n",
            "Epoch 11/100\n",
            "7/7 - 2s - loss: 0.0126 - accuracy: 0.9870 - val_loss: 0.1310 - val_accuracy: 0.8200\n",
            "Epoch 12/100\n",
            "7/7 - 2s - loss: 0.0117 - accuracy: 0.9875 - val_loss: 0.1237 - val_accuracy: 0.8600\n",
            "Epoch 13/100\n",
            "7/7 - 2s - loss: 0.0106 - accuracy: 0.9896 - val_loss: 0.1634 - val_accuracy: 0.8200\n",
            "Epoch 14/100\n",
            "7/7 - 1s - loss: 0.0108 - accuracy: 0.9875 - val_loss: 0.1408 - val_accuracy: 0.8200\n",
            "Epoch 15/100\n",
            "7/7 - 2s - loss: 0.0085 - accuracy: 0.9913 - val_loss: 0.1166 - val_accuracy: 0.8600\n",
            "Epoch 16/100\n",
            "7/7 - 2s - loss: 0.0115 - accuracy: 0.9872 - val_loss: 0.1722 - val_accuracy: 0.8000\n",
            "Epoch 17/100\n",
            "7/7 - 2s - loss: 0.0097 - accuracy: 0.9884 - val_loss: 0.1323 - val_accuracy: 0.8600\n",
            "Epoch 18/100\n",
            "7/7 - 2s - loss: 0.0070 - accuracy: 0.9925 - val_loss: 0.1055 - val_accuracy: 0.8600\n",
            "Epoch 19/100\n",
            "7/7 - 2s - loss: 0.0056 - accuracy: 0.9954 - val_loss: 0.1615 - val_accuracy: 0.8200\n",
            "Epoch 20/100\n",
            "7/7 - 2s - loss: 0.0065 - accuracy: 0.9930 - val_loss: 0.1515 - val_accuracy: 0.8200\n",
            "Epoch 21/100\n",
            "7/7 - 2s - loss: 0.0104 - accuracy: 0.9870 - val_loss: 0.1315 - val_accuracy: 0.8600\n",
            "Epoch 22/100\n",
            "7/7 - 1s - loss: 0.0074 - accuracy: 0.9913 - val_loss: 0.0908 - val_accuracy: 0.9000\n",
            "Epoch 23/100\n",
            "7/7 - 2s - loss: 0.0107 - accuracy: 0.9872 - val_loss: 0.1267 - val_accuracy: 0.8600\n",
            "Epoch 24/100\n",
            "7/7 - 2s - loss: 0.0079 - accuracy: 0.9896 - val_loss: 0.1258 - val_accuracy: 0.8400\n",
            "Epoch 25/100\n",
            "7/7 - 2s - loss: 0.0076 - accuracy: 0.9913 - val_loss: 0.1561 - val_accuracy: 0.8200\n",
            "Epoch 26/100\n",
            "7/7 - 2s - loss: 0.0073 - accuracy: 0.9910 - val_loss: 0.1393 - val_accuracy: 0.8400\n",
            "Epoch 27/100\n",
            "7/7 - 2s - loss: 0.0057 - accuracy: 0.9945 - val_loss: 0.1093 - val_accuracy: 0.8600\n",
            "Epoch 28/100\n",
            "7/7 - 2s - loss: 0.0065 - accuracy: 0.9928 - val_loss: 0.1658 - val_accuracy: 0.8000\n",
            "Epoch 29/100\n",
            "7/7 - 2s - loss: 0.0052 - accuracy: 0.9939 - val_loss: 0.1409 - val_accuracy: 0.8400\n",
            "Epoch 30/100\n",
            "7/7 - 2s - loss: 0.0048 - accuracy: 0.9954 - val_loss: 0.1434 - val_accuracy: 0.8400\n",
            "Epoch 31/100\n",
            "7/7 - 2s - loss: 0.0052 - accuracy: 0.9939 - val_loss: 0.1543 - val_accuracy: 0.8200\n",
            "Epoch 32/100\n",
            "7/7 - 2s - loss: 0.0053 - accuracy: 0.9948 - val_loss: 0.1096 - val_accuracy: 0.8600\n",
            "Epoch 33/100\n",
            "7/7 - 2s - loss: 0.0056 - accuracy: 0.9945 - val_loss: 0.1245 - val_accuracy: 0.8600\n",
            "Epoch 34/100\n",
            "7/7 - 2s - loss: 0.0062 - accuracy: 0.9930 - val_loss: 0.1416 - val_accuracy: 0.8400\n",
            "Epoch 35/100\n",
            "7/7 - 2s - loss: 0.0058 - accuracy: 0.9939 - val_loss: 0.1365 - val_accuracy: 0.8400\n",
            "Epoch 36/100\n",
            "7/7 - 2s - loss: 0.0052 - accuracy: 0.9945 - val_loss: 0.1140 - val_accuracy: 0.8800\n",
            "Epoch 37/100\n",
            "7/7 - 2s - loss: 0.0062 - accuracy: 0.9928 - val_loss: 0.1378 - val_accuracy: 0.8600\n",
            "Epoch 38/100\n",
            "7/7 - 2s - loss: 0.0052 - accuracy: 0.9936 - val_loss: 0.1412 - val_accuracy: 0.8000\n",
            "Epoch 39/100\n",
            "7/7 - 2s - loss: 0.0045 - accuracy: 0.9954 - val_loss: 0.1180 - val_accuracy: 0.8600\n",
            "Epoch 40/100\n",
            "7/7 - 2s - loss: 0.0042 - accuracy: 0.9957 - val_loss: 0.1336 - val_accuracy: 0.8400\n",
            "Epoch 41/100\n",
            "7/7 - 2s - loss: 0.0042 - accuracy: 0.9954 - val_loss: 0.1490 - val_accuracy: 0.8000\n",
            "Epoch 42/100\n",
            "7/7 - 2s - loss: 0.0050 - accuracy: 0.9948 - val_loss: 0.1279 - val_accuracy: 0.8200\n",
            "Epoch 43/100\n",
            "7/7 - 2s - loss: 0.0038 - accuracy: 0.9962 - val_loss: 0.1455 - val_accuracy: 0.8400\n",
            "Epoch 44/100\n",
            "7/7 - 2s - loss: 0.0037 - accuracy: 0.9968 - val_loss: 0.1606 - val_accuracy: 0.8200\n",
            "Epoch 45/100\n",
            "7/7 - 2s - loss: 0.0036 - accuracy: 0.9965 - val_loss: 0.1622 - val_accuracy: 0.8200\n",
            "Epoch 46/100\n",
            "7/7 - 2s - loss: 0.0044 - accuracy: 0.9959 - val_loss: 0.1663 - val_accuracy: 0.8200\n",
            "Epoch 47/100\n",
            "7/7 - 2s - loss: 0.0061 - accuracy: 0.9936 - val_loss: 0.1624 - val_accuracy: 0.8200\n",
            "Epoch 48/100\n",
            "7/7 - 2s - loss: 0.0069 - accuracy: 0.9930 - val_loss: 0.2096 - val_accuracy: 0.7800\n",
            "Epoch 49/100\n",
            "7/7 - 2s - loss: 0.0062 - accuracy: 0.9939 - val_loss: 0.1941 - val_accuracy: 0.7800\n",
            "Epoch 50/100\n",
            "7/7 - 2s - loss: 0.0051 - accuracy: 0.9945 - val_loss: 0.2098 - val_accuracy: 0.7600\n",
            "Epoch 51/100\n",
            "7/7 - 2s - loss: 0.0083 - accuracy: 0.9899 - val_loss: 0.1865 - val_accuracy: 0.8000\n",
            "Epoch 52/100\n",
            "7/7 - 2s - loss: 0.0117 - accuracy: 0.9849 - val_loss: 0.1963 - val_accuracy: 0.8000\n",
            "Epoch 53/100\n",
            "7/7 - 2s - loss: 0.0119 - accuracy: 0.9864 - val_loss: 0.1898 - val_accuracy: 0.7800\n",
            "Epoch 54/100\n",
            "7/7 - 2s - loss: 0.0117 - accuracy: 0.9858 - val_loss: 0.1194 - val_accuracy: 0.8800\n",
            "Epoch 55/100\n",
            "7/7 - 2s - loss: 0.0140 - accuracy: 0.9829 - val_loss: 0.1248 - val_accuracy: 0.8600\n",
            "Epoch 56/100\n",
            "7/7 - 2s - loss: 0.0060 - accuracy: 0.9919 - val_loss: 0.1340 - val_accuracy: 0.8600\n",
            "Epoch 57/100\n",
            "7/7 - 2s - loss: 0.0052 - accuracy: 0.9936 - val_loss: 0.1706 - val_accuracy: 0.8000\n",
            "Epoch 58/100\n",
            "7/7 - 2s - loss: 0.0042 - accuracy: 0.9962 - val_loss: 0.1656 - val_accuracy: 0.8200\n",
            "Epoch 59/100\n",
            "7/7 - 2s - loss: 0.0041 - accuracy: 0.9959 - val_loss: 0.1840 - val_accuracy: 0.7800\n",
            "Epoch 60/100\n",
            "7/7 - 2s - loss: 0.0039 - accuracy: 0.9959 - val_loss: 0.1729 - val_accuracy: 0.8000\n",
            "Epoch 61/100\n",
            "7/7 - 2s - loss: 0.0037 - accuracy: 0.9962 - val_loss: 0.1357 - val_accuracy: 0.8600\n",
            "Epoch 62/100\n",
            "7/7 - 2s - loss: 0.0037 - accuracy: 0.9962 - val_loss: 0.1158 - val_accuracy: 0.8400\n",
            "Epoch 63/100\n",
            "7/7 - 2s - loss: 0.0042 - accuracy: 0.9948 - val_loss: 0.1376 - val_accuracy: 0.8400\n",
            "Epoch 64/100\n",
            "7/7 - 2s - loss: 0.0051 - accuracy: 0.9942 - val_loss: 0.1417 - val_accuracy: 0.8400\n",
            "Epoch 65/100\n",
            "7/7 - 2s - loss: 0.0041 - accuracy: 0.9959 - val_loss: 0.1810 - val_accuracy: 0.8000\n",
            "Epoch 66/100\n",
            "7/7 - 2s - loss: 0.0035 - accuracy: 0.9959 - val_loss: 0.1541 - val_accuracy: 0.8400\n",
            "Epoch 67/100\n",
            "7/7 - 2s - loss: 0.0034 - accuracy: 0.9965 - val_loss: 0.1454 - val_accuracy: 0.8400\n",
            "Epoch 68/100\n",
            "7/7 - 2s - loss: 0.0032 - accuracy: 0.9968 - val_loss: 0.1814 - val_accuracy: 0.8000\n",
            "Epoch 69/100\n",
            "7/7 - 2s - loss: 0.0032 - accuracy: 0.9968 - val_loss: 0.1624 - val_accuracy: 0.8200\n",
            "Epoch 70/100\n",
            "7/7 - 2s - loss: 0.0031 - accuracy: 0.9971 - val_loss: 0.1781 - val_accuracy: 0.8200\n",
            "Epoch 71/100\n",
            "7/7 - 2s - loss: 0.0033 - accuracy: 0.9968 - val_loss: 0.1730 - val_accuracy: 0.8200\n",
            "Epoch 72/100\n",
            "7/7 - 2s - loss: 0.0030 - accuracy: 0.9971 - val_loss: 0.1595 - val_accuracy: 0.8200\n",
            "Epoch 73/100\n",
            "7/7 - 2s - loss: 0.0029 - accuracy: 0.9971 - val_loss: 0.1640 - val_accuracy: 0.8200\n",
            "Epoch 74/100\n",
            "7/7 - 2s - loss: 0.0027 - accuracy: 0.9974 - val_loss: 0.1614 - val_accuracy: 0.8200\n",
            "Epoch 75/100\n",
            "7/7 - 2s - loss: 0.0026 - accuracy: 0.9974 - val_loss: 0.1621 - val_accuracy: 0.8200\n",
            "Epoch 76/100\n",
            "7/7 - 2s - loss: 0.0026 - accuracy: 0.9974 - val_loss: 0.1682 - val_accuracy: 0.8200\n",
            "Epoch 77/100\n",
            "7/7 - 2s - loss: 0.0026 - accuracy: 0.9974 - val_loss: 0.1714 - val_accuracy: 0.8200\n",
            "Epoch 78/100\n",
            "7/7 - 2s - loss: 0.0026 - accuracy: 0.9974 - val_loss: 0.1684 - val_accuracy: 0.8200\n",
            "Epoch 79/100\n",
            "7/7 - 2s - loss: 0.0026 - accuracy: 0.9974 - val_loss: 0.1656 - val_accuracy: 0.8200\n",
            "Epoch 80/100\n",
            "7/7 - 2s - loss: 0.0026 - accuracy: 0.9974 - val_loss: 0.1635 - val_accuracy: 0.8200\n",
            "Epoch 81/100\n",
            "7/7 - 2s - loss: 0.0026 - accuracy: 0.9974 - val_loss: 0.1625 - val_accuracy: 0.8200\n",
            "Epoch 82/100\n",
            "7/7 - 2s - loss: 0.0026 - accuracy: 0.9974 - val_loss: 0.1620 - val_accuracy: 0.8200\n",
            "Epoch 83/100\n",
            "7/7 - 2s - loss: 0.0026 - accuracy: 0.9974 - val_loss: 0.1618 - val_accuracy: 0.8200\n",
            "Epoch 84/100\n",
            "7/7 - 2s - loss: 0.0026 - accuracy: 0.9974 - val_loss: 0.1619 - val_accuracy: 0.8200\n",
            "Epoch 85/100\n",
            "7/7 - 2s - loss: 0.0026 - accuracy: 0.9974 - val_loss: 0.1622 - val_accuracy: 0.8200\n",
            "Epoch 86/100\n",
            "7/7 - 2s - loss: 0.0026 - accuracy: 0.9974 - val_loss: 0.1622 - val_accuracy: 0.8200\n",
            "Epoch 87/100\n",
            "7/7 - 2s - loss: 0.0026 - accuracy: 0.9974 - val_loss: 0.1622 - val_accuracy: 0.8200\n",
            "Epoch 88/100\n",
            "7/7 - 2s - loss: 0.0026 - accuracy: 0.9974 - val_loss: 0.1623 - val_accuracy: 0.8200\n",
            "Epoch 89/100\n",
            "7/7 - 2s - loss: 0.0026 - accuracy: 0.9974 - val_loss: 0.1623 - val_accuracy: 0.8200\n",
            "Epoch 90/100\n",
            "7/7 - 2s - loss: 0.0026 - accuracy: 0.9974 - val_loss: 0.1623 - val_accuracy: 0.8200\n",
            "Epoch 91/100\n",
            "7/7 - 2s - loss: 0.0026 - accuracy: 0.9974 - val_loss: 0.1623 - val_accuracy: 0.8200\n",
            "Epoch 92/100\n",
            "7/7 - 2s - loss: 0.0026 - accuracy: 0.9974 - val_loss: 0.1624 - val_accuracy: 0.8200\n",
            "Epoch 93/100\n",
            "7/7 - 2s - loss: 0.0026 - accuracy: 0.9974 - val_loss: 0.1625 - val_accuracy: 0.8200\n",
            "Epoch 94/100\n",
            "7/7 - 2s - loss: 0.0026 - accuracy: 0.9974 - val_loss: 0.1625 - val_accuracy: 0.8200\n",
            "Epoch 95/100\n",
            "7/7 - 2s - loss: 0.0026 - accuracy: 0.9974 - val_loss: 0.1626 - val_accuracy: 0.8200\n",
            "Epoch 96/100\n",
            "7/7 - 2s - loss: 0.0026 - accuracy: 0.9974 - val_loss: 0.1627 - val_accuracy: 0.8200\n",
            "Epoch 97/100\n",
            "7/7 - 2s - loss: 0.0026 - accuracy: 0.9974 - val_loss: 0.1628 - val_accuracy: 0.8200\n",
            "Epoch 98/100\n",
            "7/7 - 2s - loss: 0.0026 - accuracy: 0.9974 - val_loss: 0.1628 - val_accuracy: 0.8200\n",
            "Epoch 99/100\n",
            "7/7 - 2s - loss: 0.0026 - accuracy: 0.9974 - val_loss: 0.1631 - val_accuracy: 0.8200\n",
            "Epoch 100/100\n",
            "7/7 - 2s - loss: 0.0026 - accuracy: 0.9974 - val_loss: 0.1634 - val_accuracy: 0.8200\n"
          ]
        }
      ],
      "source": [
        "epoch = 100\n",
        "batchS = 500\n",
        "\n",
        "history = model.fit(np.array(data[0:3450]), np.array(target[0:3450]), epochs=epoch,\n",
        "                    validation_data=(np.array(data[3450:]), np.array(target[3450:])), \n",
        "                    batch_size=batchS, verbose=2)"
      ]
    },
    {
      "cell_type": "markdown",
      "metadata": {
        "id": "MP2zAC5opfRo"
      },
      "source": [
        "**Test the model**"
      ]
    },
    {
      "cell_type": "markdown",
      "metadata": {
        "id": "9TTkgnUfpbP1"
      },
      "source": [
        "\n",
        "\n",
        "We are going to test the model with % of the total videos. This videos have not been used to train the network."
      ]
    },
    {
      "cell_type": "code",
      "execution_count": null,
      "metadata": {
        "colab": {
          "base_uri": "https://localhost:8080/"
        },
        "id": "8fODZu8waPEJ",
        "outputId": "1da08b30-3628-4cfd-9abf-090fd784e665"
      },
      "outputs": [
        {
          "name": "stdout",
          "output_type": "stream",
          "text": [
            "5/5 [==============================] - 0s 10ms/step - loss: 0.1178 - accuracy: 0.8533\n"
          ]
        }
      ],
      "source": [
        "result = model.evaluate(np.array(data_test), np.array(target_test))"
      ]
    },
    {
      "cell_type": "markdown",
      "metadata": {
        "id": "baZ920SfqADP"
      },
      "source": [
        "\n",
        "**Print the model accuracy**"
      ]
    },
    {
      "cell_type": "code",
      "execution_count": null,
      "metadata": {
        "colab": {
          "base_uri": "https://localhost:8080/"
        },
        "id": "S6UQbZd4aPWM",
        "outputId": "191a9849-ae16-455a-9498-af96abd66fd5"
      },
      "outputs": [
        {
          "name": "stdout",
          "output_type": "stream",
          "text": [
            "loss 0.11779144406318665\n",
            "accuracy 0.8533333539962769\n"
          ]
        }
      ],
      "source": [
        "for name, value in zip(model.metrics_names, result):\n",
        "    print(name, value)"
      ]
    },
    {
      "cell_type": "code",
      "execution_count": null,
      "metadata": {
        "colab": {
          "base_uri": "https://localhost:8080/"
        },
        "id": "Z7vupiz9Urkf",
        "outputId": "eb0c1bf7-ed5b-4a36-dac6-58e722d50aa2"
      },
      "outputs": [
        {
          "name": "stdout",
          "output_type": "stream",
          "text": [
            "Time LSTM:  170.1152708919999\n"
          ]
        }
      ],
      "source": [
        "stop_LSTM = timeit.default_timer()\n",
        "\n",
        "print('Time LSTM: ', stop_LSTM - start_LSTM)  "
      ]
    },
    {
      "cell_type": "markdown",
      "metadata": {
        "id": "CmqqIj0UqMLy"
      },
      "source": [
        "PLOTING ACCURACY VS EPOCH AND LOSS VS EPOCH"
      ]
    },
    {
      "cell_type": "code",
      "execution_count": null,
      "metadata": {
        "colab": {
          "base_uri": "https://localhost:8080/",
          "height": 299
        },
        "id": "zCYea6wbx51D",
        "outputId": "f24ead25-d5a0-47d5-c2bf-c9ab57079f24"
      },
      "outputs": [
        {
          "data": {
            "image/png": "[encoded data removed]",
            "text/plain": [
              "<Figure size 432x288 with 1 Axes>"
            ]
          },
          "metadata": {
            "tags": []
          },
          "output_type": "display_data"
        }
      ],
      "source": [
        "# plot the training loss and accuracy\n",
        "N = epoch\n",
        "plt.style.use(\"ggplot\")\n",
        "plt.figure()\n",
        "plt.plot(np.arange(0, N), history.history[\"loss\"], label=\"train_loss\")\n",
        "# plt.plot(np.arange(0, N), history.history[\"val_loss\"], label=\"val_loss\")\n",
        "plt.plot(np.arange(0, N), history.history[\"accuracy\"], label=\"train_acc\")\n",
        "# plt.plot(np.arange(0, N), history.history[\"val_accuracy\"], label=\"val_acc\")\n",
        "plt.title(\"Training Loss and Accuracy\")\n",
        "plt.xlabel(\"Epoch\")\n",
        "plt.ylabel(\"Loss/Accuracy\")\n",
        "plt.legend(loc=\"lower left\")\n",
        "plt.savefig('model_accuracy2.jpg')"
      ]
    },
    {
      "cell_type": "code",
      "execution_count": null,
      "metadata": {
        "colab": {
          "base_uri": "https://localhost:8080/",
          "height": 299
        },
        "id": "C2dpDMrqxCmj",
        "outputId": "aa291a62-cd7c-432d-d2e9-da57c8ee5f9e"
      },
      "outputs": [],
      "source": [
        "# plot the training loss and accuracy\n",
        "N = epoch\n",
        "plt.style.use(\"ggplot\")\n",
        "plt.figure()\n",
        "plt.plot(np.arange(0, N), history.history[\"loss\"], label=\"train_loss\")\n",
        "plt.plot(np.arange(0, N), history.history[\"val_loss\"], label=\"val_loss\")\n",
        "plt.plot(np.arange(0, N), history.history[\"accuracy\"], label=\"train_acc\")\n",
        "plt.plot(np.arange(0, N), history.history[\"val_accuracy\"], label=\"val_acc\")\n",
        "plt.title(\"Training Loss and Accuracy\")\n",
        "plt.xlabel(\"Epoch\")\n",
        "plt.ylabel(\"Loss/Accuracy\")\n",
        "plt.legend(loc=\"lower left\")\n",
        "plt.savefig('model_loss2.jpg')"
      ]
    },
    {
      "cell_type": "code",
      "execution_count": null,
      "metadata": {
        "colab": {
          "base_uri": "https://localhost:8080/",
          "height": 581
        },
        "id": "5k5zO25ev1Y3",
        "outputId": "bd9bf0f0-afdb-4aae-fc70-5336a8c5d006"
      },
      "outputs": [
        {
          "data": {
            "image/png": "[encoded data removed]",
            "text/plain": [
              "<Figure size 432x288 with 1 Axes>"
            ]
          },
          "metadata": {
            "tags": []
          },
          "output_type": "display_data"
        },
        {
          "data": {
            "image/png": "[encoded data removed]",
            "text/plain": [
              "<Figure size 432x288 with 1 Axes>"
            ]
          },
          "metadata": {
            "tags": []
          },
          "output_type": "display_data"
        }
      ],
      "source": [
        "# summarize history for accuracy\n",
        "plt.plot(history.history['accuracy'])\n",
        "plt.title('model accuracy')\n",
        "plt.ylabel('accuracy')\n",
        "plt.xlabel('epoch')\n",
        "plt.legend(['train'], loc='lower right')\n",
        "# plt.savefig('destination_path1.eps', format='eps', dpi=1000)\n",
        "plt.savefig('model_accuracy1.jpg')\n",
        "plt.show()\n",
        "\n",
        "# summarize history for loss\n",
        "plt.plot(history.history['loss'])\n",
        "plt.title('model loss')\n",
        "plt.ylabel('loss')\n",
        "plt.xlabel('epoch')\n",
        "plt.legend(['train'], loc='upper left')\n",
        "# plt.savefig('destination_path1.eps', format='eps', dpi=1000)\n",
        "plt.savefig('model_loss1.jpg')\n",
        "plt.show()"
      ]
    },
    {
      "cell_type": "code",
      "execution_count": null,
      "metadata": {
        "colab": {
          "base_uri": "https://localhost:8080/",
          "height": 581
        },
        "id": "6XkNxJo1RG5r",
        "outputId": "88982e20-cbe8-4609-cfc8-3687f23ec8d3"
      },
      "outputs": [],
      "source": [
        "# summarize history for accuracy\n",
        "plt.plot(history.history['accuracy'])\n",
        "plt.plot(history.history['val_accuracy'])\n",
        "plt.title('model accuracy')\n",
        "plt.ylabel('accuracy')\n",
        "plt.xlabel('epoch')\n",
        "plt.legend(['train', 'validation'], loc='lower right')\n",
        "# plt.savefig('destination_path1.eps', format='eps', dpi=1000)\n",
        "plt.savefig('model_accuracy.jpg')\n",
        "plt.show()\n",
        "\n",
        "# summarize history for loss\n",
        "plt.plot(history.history['loss'])\n",
        "plt.plot(history.history['val_loss'])\n",
        "plt.title('model loss')\n",
        "plt.ylabel('loss')\n",
        "plt.xlabel('epoch')\n",
        "plt.legend(['train', 'validation'], loc='upper left')\n",
        "# plt.savefig('destination_path1.eps', format='eps', dpi=1000)\n",
        "plt.savefig('model_loss.jpg')\n",
        "plt.show()"
      ]
    },
    {
      "cell_type": "markdown",
      "metadata": {
        "id": "Wze89JGV3lae"
      },
      "source": [
        "**ROC**"
      ]
    },
    {
      "cell_type": "code",
      "execution_count": null,
      "metadata": {
        "id": "RQ8woPwa9mY6"
      },
      "outputs": [],
      "source": [
        "# trainX-names_training\n",
        "# trainy-labels_training\n",
        "\n",
        "# testX-names_test\n",
        "# testy-labels_test"
      ]
    },
    {
      "cell_type": "code",
      "execution_count": null,
      "metadata": {
        "colab": {
          "base_uri": "https://localhost:8080/"
        },
        "id": "0-kNDbQW9mLa",
        "outputId": "5e5f6933-ec2b-42d8-cc2f-c250a2432ce8"
      },
      "outputs": [],
      "source": [
        "trainX=np.array(names_training)\n",
        "trainX"
      ]
    },
    {
      "cell_type": "code",
      "execution_count": null,
      "metadata": {
        "colab": {
          "base_uri": "https://localhost:8080/"
        },
        "id": "M8qfgSEg9l8I",
        "outputId": "fcdf47fa-78a1-4d5f-f53c-5e5a25dc7afc"
      },
      "outputs": [],
      "source": [
        "testX=np.array(names_test)\n",
        "testX"
      ]
    },
    {
      "cell_type": "code",
      "execution_count": null,
      "metadata": {
        "colab": {
          "base_uri": "https://localhost:8080/"
        },
        "id": "wE8aBgtM-Js5",
        "outputId": "f1850653-382b-481c-c252-2023e59aa3ec"
      },
      "outputs": [
        {
          "data": {
            "text/plain": [
              "array([0, 1, 1, ..., 0, 0, 0])"
            ]
          },
          "execution_count": 59,
          "metadata": {
            "tags": []
          },
          "output_type": "execute_result"
        }
      ],
      "source": [
        "trainy=[]\n",
        "trainY=labels_training\n",
        "for i in range(len(trainY)):\n",
        "  if((trainY[i])==[1,0] ):\n",
        "    trainy.append(0)\n",
        "  elif((trainY[i]==[0,1])):\n",
        "    trainy.append(1)\n",
        "\n",
        "trainy=np.array(trainy)\n",
        "trainy"
      ]
    },
    {
      "cell_type": "code",
      "execution_count": null,
      "metadata": {
        "colab": {
          "base_uri": "https://localhost:8080/"
        },
        "id": "OBRWZOPaBNlj",
        "outputId": "7e1c9e10-9c12-488c-e928-f7b8600b930f"
      },
      "outputs": [],
      "source": [
        "testy=[]\n",
        "testY=labels_test\n",
        "for i in range(len(testY)):\n",
        "  if((testY[i])==[1,0] ):\n",
        "    testy.append(0)\n",
        "  elif((testY[i]==[0,1])):\n",
        "    testy.append(1)\n",
        "\n",
        "testy=np.array(testy)\n",
        "testy"
      ]
    },
    {
      "cell_type": "code",
      "execution_count": null,
      "metadata": {
        "id": "kbpqs3L69yQI"
      },
      "outputs": [],
      "source": [
        "# trainX-names_training\n",
        "# trainy-labels_training\n",
        "\n",
        "# testX-names_test\n",
        "# testy-labels_test\n",
        "\n",
        "\n",
        "# trainX-data\n",
        "# trainy-target\n",
        "\n",
        "# testX-data_test\n",
        "# testy-target_test"
      ]
    },
    {
      "cell_type": "code",
      "execution_count": null,
      "metadata": {
        "colab": {
          "base_uri": "https://localhost:8080/"
        },
        "id": "aGQiD3OZ_Seh",
        "outputId": "da1d8b96-30df-4167-b23e-ac299846d52a"
      },
      "outputs": [
        {
          "name": "stderr",
          "output_type": "stream",
          "text": [
            "/usr/local/lib/python3.7/dist-packages/keras/engine/sequential.py:450: UserWarning: `model.predict_classes()` is deprecated and will be removed after 2021-01-01. Please use instead:* `np.argmax(model.predict(x), axis=-1)`,   if your model does multi-class classification   (e.g. if it uses a `softmax` last-layer activation).* `(model.predict(x) > 0.5).astype(\"int32\")`,   if your model does binary classification   (e.g. if it uses a `sigmoid` last-layer activation).\n",
            "  warnings.warn('`model.predict_classes()` is deprecated and '\n"
          ]
        }
      ],
      "source": [
        "# demonstration of calculating metrics for a neural network model using sklearn\n",
        "from sklearn.datasets import make_circles\n",
        "from sklearn.metrics import accuracy_score\n",
        "from sklearn.metrics import precision_score\n",
        "from sklearn.metrics import recall_score\n",
        "from sklearn.metrics import f1_score\n",
        "from sklearn.metrics import cohen_kappa_score\n",
        "from sklearn.metrics import roc_auc_score\n",
        "from sklearn.metrics import confusion_matrix\n",
        "\n",
        "# predict probabilities for test set\n",
        "yhat_probs = model.predict(np.array(data_test), verbose=0)\n",
        "# predict crisp classes for test set\n",
        "yhat_classes = model.predict_classes(np.array(data_test), verbose=0)\n",
        "# # reduce to 1d array\n",
        "# yhat_probs = yhat_probs[:, 0]\n",
        "# yhat_classes = yhat_classes[:, 0]\n",
        "\n"
      ]
    },
    {
      "cell_type": "code",
      "execution_count": null,
      "metadata": {
        "colab": {
          "base_uri": "https://localhost:8080/"
        },
        "id": "wZk-MbXQR9AC",
        "outputId": "b0720c36-edc0-4791-c02c-91dc00662d58"
      },
      "outputs": [
        {
          "name": "stdout",
          "output_type": "stream",
          "text": [
            "Accuracy: 0.853333\n",
            "Precision: 0.863636\n",
            "Recall: 0.814286\n",
            "F1 score: 0.838235\n"
          ]
        }
      ],
      "source": [
        "\n",
        "# accuracy: (tp + tn) / (p + n)\n",
        "accuracy = accuracy_score(testy, yhat_classes)\n",
        "print('Accuracy: %f' % accuracy)\n",
        "# precision tp / (tp + fp)\n",
        "precision = precision_score(testy, yhat_classes)\n",
        "print('Precision: %f' % precision)\n",
        "# recall: tp / (tp + fn)\n",
        "recall = recall_score(testy, yhat_classes)\n",
        "print('Recall: %f' % recall)\n",
        "# f1: 2 tp / (2 tp + fp + fn)\n",
        "f1 = f1_score(testy, yhat_classes)\n",
        "print('F1 score: %f' % f1)"
      ]
    },
    {
      "cell_type": "code",
      "execution_count": null,
      "metadata": {
        "colab": {
          "base_uri": "https://localhost:8080/"
        },
        "id": "PjQGctGJS0Fj",
        "outputId": "5b22190a-be51-445d-cdf1-679ced605403"
      },
      "outputs": [
        {
          "name": "stdout",
          "output_type": "stream",
          "text": [
            "Cohens kappa: 0.704301\n",
            "ROC AUC: 0.929821\n",
            "[[71  9]\n",
            " [13 57]]\n"
          ]
        }
      ],
      "source": [
        "# kappa\n",
        "kappa = cohen_kappa_score(testy, yhat_classes)\n",
        "print('Cohens kappa: %f' % kappa)\n",
        "# ROC AUC\n",
        "auc = roc_auc_score(target_test, yhat_probs)\n",
        "print('ROC AUC: %f' % auc)\n",
        "# confusion matrix\n",
        "matrix = confusion_matrix(testy, yhat_classes)\n",
        "print(matrix)"
      ]
    },
    {
      "cell_type": "code",
      "execution_count": null,
      "metadata": {
        "id": "p3NpSnwqUKxR"
      },
      "outputs": [],
      "source": [
        "# roc curve and auc\n",
        "from sklearn.datasets import make_classification\n",
        "from sklearn.linear_model import LogisticRegression\n",
        "from sklearn.model_selection import train_test_split\n",
        "from sklearn.metrics import roc_curve\n",
        "from sklearn.metrics import roc_auc_score\n",
        "from matplotlib import pyplot"
      ]
    },
    {
      "cell_type": "code",
      "execution_count": null,
      "metadata": {
        "colab": {
          "base_uri": "https://localhost:8080/",
          "height": 370
        },
        "id": "RZzgKh9eDPWt",
        "outputId": "f60805ce-33b8-4260-a532-61b02da4cb3c"
      },
      "outputs": [
        {
          "name": "stderr",
          "output_type": "stream",
          "text": [
            "/usr/local/lib/python3.7/dist-packages/keras/engine/sequential.py:425: UserWarning: `model.predict_proba()` is deprecated and will be removed after 2021-01-01. Please use `model.predict()` instead.\n",
            "  warnings.warn('`model.predict_proba()` is deprecated and '\n"
          ]
        },
        {
          "name": "stdout",
          "output_type": "stream",
          "text": [
            "No Skill: ROC AUC=0.500\n",
            "ResNet101V2: ROC AUC=0.930\n"
          ]
        },
        {
          "data": {
            "image/png": "[encoded data removed]",
            "text/plain": [
              "<Figure size 432x288 with 1 Axes>"
            ]
          },
          "metadata": {
            "tags": []
          },
          "output_type": "display_data"
        }
      ],
      "source": [
        "ns_probs = [0 for _ in range(len(np.array(target_test)))]\n",
        "# # fit a model\n",
        "# model = LogisticRegression(solver='lbfgs')\n",
        "# model.fit(trainX, trainy)\n",
        "# predict probabilities\n",
        "lr_probs = model.predict_proba(np.array(data_test))\n",
        "# keep probabilities for the positive outcome only\n",
        "lr_probs = lr_probs[:, 1]\n",
        "# calculate scores\n",
        "ns_auc = roc_auc_score(testy, ns_probs)\n",
        "lr_auc = roc_auc_score(testy, lr_probs)\n",
        "# summarize scores\n",
        "print('No Skill: ROC AUC=%.3f' % (ns_auc))\n",
        "print('ResNet101V2: ROC AUC=%.3f' % (lr_auc))\n",
        "# calculate roc curves\n",
        "ns_fpr, ns_tpr, _ = roc_curve(testy, ns_probs)\n",
        "lr_fpr, lr_tpr, _ = roc_curve(testy, lr_probs)\n",
        "# plot the roc curve for the model\n",
        "pyplot.plot(ns_fpr, ns_tpr, linestyle='--', label='Reference')\n",
        "pyplot.plot(lr_fpr, lr_tpr, marker='.', label='ResNet101V2')\n",
        "# axis labels\n",
        "pyplot.xlabel('False Positive Rate')\n",
        "pyplot.ylabel('True Positive Rate')\n",
        "# show the legend\n",
        "pyplot.legend(loc='lower right')\n",
        "pyplot.savefig('ROC.jpg')\n",
        "# show the plot\n",
        "pyplot.show()"
      ]
    },
    {
      "cell_type": "markdown",
      "metadata": {
        "id": "UVA-2o-FQ7bN"
      },
      "source": [
        "**TESTING**"
      ]
    },
    {
      "cell_type": "code",
      "execution_count": null,
      "metadata": {
        "colab": {
          "base_uri": "https://localhost:8080/"
        },
        "id": "cRDVyx84Q58H",
        "outputId": "2eca9b0c-8891-4988-9295-7e90af079ddc"
      },
      "outputs": [],
      "source": [
        "in_dir_2 = 'testing-dataset-path'\n",
        "print (\"Done!\")\n",
        "print(in_dir_2)"
      ]
    },
    {
      "cell_type": "code",
      "execution_count": null,
      "metadata": {
        "colab": {
          "base_uri": "https://localhost:8080/"
        },
        "id": "X09Db8ufeI2m",
        "outputId": "674f1606-4301-4389-f7fc-b8de5985a228"
      },
      "outputs": [
        {
          "name": "stdout",
          "output_type": "stream",
          "text": [
            "Done!\n"
          ]
        }
      ],
      "source": [
        "def video_names(in_dir_1):\n",
        "    \n",
        "    # list containing video names\n",
        "    names1 = []\n",
        "\n",
        "    for current_dir, dir_names,file_names in os.walk(in_dir_1):\n",
        "        \n",
        "        for file_name1 in file_names:\n",
        "          \n",
        "           names1.append(file_name1)\n",
        "\n",
        "           #shuffle(names1)\n",
        "                  \n",
        "    return tuple(names1)\n",
        "\n",
        "print (\"Done!\")"
      ]
    },
    {
      "cell_type": "code",
      "execution_count": null,
      "metadata": {
        "colab": {
          "base_uri": "https://localhost:8080/"
        },
        "id": "P0bfbaFYQ6IV",
        "outputId": "1eaebcef-938c-4791-b870-b5347d6b161b"
      },
      "outputs": [],
      "source": [
        "# Storing in names1\n",
        "names2 = video_names(in_dir_2)\n",
        "print (\"Done!\")\n",
        "count1=0\n",
        "count2=0\n",
        "print(names2)"
      ]
    },
    {
      "cell_type": "code",
      "execution_count": null,
      "metadata": {
        "colab": {
          "base_uri": "https://localhost:8080/"
        },
        "id": "6qj4UWyWRW7J",
        "outputId": "42abec78-75fe-4f62-c2e6-df99703c3357"
      },
      "outputs": [],
      "source": [
        "i=0\n",
        "\n",
        "t = []\n",
        "\n",
        "for i in range(100):\n",
        "  start = timeit.default_timer()\n",
        "  \n",
        "  videoplayback_no=names2[i]\n",
        "  \n",
        "  print(videoplayback_no)\n",
        "  #frames1 = get_frames(in_dir_1, videoplayback_no)\n",
        "  #visible_frame = (frames1*255).astype('uint8')\n",
        "  #plt.imshow(visible_frame[10])\n",
        "  video = get_transfer_values(in_dir_2, videoplayback_no)\n",
        "  \n",
        "  video = video.reshape((1, video.shape[0], video.shape[1]))\n",
        "  \n",
        "  label = np.argmax(model.predict(video))\n",
        "\n",
        "  if(label==1):\n",
        "    print('VIOLENCE NOT PRESENT')\n",
        "  else:\n",
        "    print('VIOLENCE PRESENT')\n",
        "\n",
        "  stop = timeit.default_timer()\n",
        "\n",
        "  print('Time: ', stop - start)  \n",
        "  \n",
        "  res = stop - start\n",
        "\n",
        "  t.append(res)\n",
        "\n",
        "  i=i+1\n",
        "\n"
      ]
    },
    {
      "cell_type": "code",
      "execution_count": null,
      "metadata": {
        "colab": {
          "base_uri": "https://localhost:8080/"
        },
        "id": "rLAqHWnaKDaA",
        "outputId": "cdba3379-581d-4bc8-f7e5-a37c83c077f6"
      },
      "outputs": [],
      "source": [
        "print(t)\n",
        "print(len(t))"
      ]
    },
    {
      "cell_type": "code",
      "execution_count": null,
      "metadata": {
        "colab": {
          "base_uri": "https://localhost:8080/"
        },
        "id": "AIDf_CnVKEX0",
        "outputId": "94f22a92-ab20-46e3-8e2f-1bd66e2713a7"
      },
      "outputs": [
        {
          "name": "stdout",
          "output_type": "stream",
          "text": [
            "Average of the time = 0.93667\n"
          ]
        }
      ],
      "source": [
        "# Python program to get average of a list \n",
        "def Average(lst): \n",
        "    return sum(lst) / len(lst) \n",
        "  \n",
        "# Driver Code \n",
        "average = Average(t) \n",
        "  \n",
        "# Printing average of the list \n",
        "print(\"Average of the time =\", round(average, 5)) "
      ]
    },
    {
      "cell_type": "code",
      "execution_count": null,
      "metadata": {
        "colab": {
          "base_uri": "https://localhost:8080/"
        },
        "id": "-KJbWstrKKWF",
        "outputId": "d74d5afb-a0e1-40b8-dbe4-756273b20cbb"
      },
      "outputs": [
        {
          "name": "stdout",
          "output_type": "stream",
          "text": [
            "Standard deviation of sample is : 0.08194054990232566\n"
          ]
        }
      ],
      "source": [
        "import statistics \n",
        "  \n",
        "# initializing list \n",
        "  \n",
        "# printing list \n",
        "# print(\"The original list : \" + str(t)) \n",
        "  \n",
        "# Standard deviation of list \n",
        "# Using pstdev() \n",
        "sd = statistics.pstdev(t) \n",
        "  \n",
        "# Printing result \n",
        "print(\"Standard deviation of sample is : \" + str(sd)) "
      ]
    }
  ],
  "metadata": {
    "accelerator": "GPU",
    "colab": {
      "collapsed_sections": [],
      "name": "ResNet101V2.ipynb",
      "provenance": []
    },
    "kernelspec": {
      "display_name": "Python 3",
      "name": "python3"
    }
  },
  "nbformat": 4,
  "nbformat_minor": 0
}
